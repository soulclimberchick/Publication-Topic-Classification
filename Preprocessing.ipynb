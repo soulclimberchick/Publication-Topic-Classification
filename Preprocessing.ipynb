{
 "cells": [
  {
   "cell_type": "markdown",
   "metadata": {},
   "source": [
    "# Preprocessing"
   ]
  },
  {
   "cell_type": "markdown",
   "metadata": {},
   "source": [
    "Imports"
   ]
  },
  {
   "cell_type": "code",
   "execution_count": 1,
   "metadata": {},
   "outputs": [],
   "source": [
    "import requests\n",
    "import pandas as pd\n",
    "import numpy as np\n",
    "import time\n",
    "import nltk\n",
    "import re\n",
    "import codecs\n",
    "import matplotlib.pyplot as plt\n",
    "from sklearn.feature_extraction.text import TfidfVectorizer, CountVectorizer\n",
    "from sklearn.decomposition import NMF, LatentDirichletAllocation"
   ]
  },
  {
   "cell_type": "markdown",
   "metadata": {},
   "source": [
    "Pushshift Params"
   ]
  },
  {
   "cell_type": "code",
   "execution_count": 2,
   "metadata": {},
   "outputs": [],
   "source": [
    "def get_subreddit_data(subreddit,epoch_time):\n",
    "    url =f'https://api.pushshift.io/reddit/search/submission?subreddit={subreddit}&author!=[deleted]&size=500&is_self=true&before={epoch_time}'\n",
    "    res = requests.get(url)\n",
    "    data = res.json()\n",
    "    return data['data']"
   ]
  },
  {
   "cell_type": "code",
   "execution_count": 3,
   "metadata": {},
   "outputs": [],
   "source": [
    "def exist_keys(post_to_check):\n",
    "    if (\"author\" in post_to_check and \"selftext\" in post_to_check and \"is_self\" in post_to_check):\n",
    "        return True\n",
    "    else:\n",
    "        return False"
   ]
  },
  {
   "cell_type": "code",
   "execution_count": 4,
   "metadata": {},
   "outputs": [],
   "source": [
    "def check_post(post_to_check):\n",
    "    if exist_keys(post_to_check):\n",
    "        author = post_to_check['author']\n",
    "        selftext = post_to_check['selftext']\n",
    "        is_self = post_to_check['is_self']\n",
    "        if (author != '[deleted]' and author != 'deleted' and author != 'removed' \n",
    "                and selftext != 'removed' and selftext != \"\"\n",
    "                and selftext != 'deleted' and 50 < len(selftext) < 50000\n",
    "                and \"http://\" not in selftext and \"https://\" not in selftext\n",
    "                and is_self) :\n",
    "            return True\n",
    "        else:\n",
    "            return False\n",
    "    else:\n",
    "        return False"
   ]
  },
  {
   "cell_type": "code",
   "execution_count": 5,
   "metadata": {},
   "outputs": [],
   "source": [
    "def get_filtered_posts(subreddit, post_count):\n",
    "    result = []\n",
    "    epoch_time = int(time.time())\n",
    "    is_end_of_topic = False\n",
    "    while len(result) <= post_count and not is_end_of_topic:\n",
    "        post_list = get_subreddit_data(subreddit, epoch_time)\n",
    "        temp_result = [post for post in post_list if check_post(post)]\n",
    "        result.extend(temp_result)\n",
    "        if epoch_time != int(result[-1]['created_utc']):\n",
    "            epoch_time = int(result[-1]['created_utc'])\n",
    "        else:\n",
    "            is_end_of_topic = True\n",
    "    return result"
   ]
  },
  {
   "cell_type": "code",
   "execution_count": 6,
   "metadata": {},
   "outputs": [
    {
     "name": "stdout",
     "output_type": "stream",
     "text": [
      "We have 3025 titles in the data\n"
     ]
    }
   ],
   "source": [
    "biology_posts = get_filtered_posts(\"biology\", 3000)\n",
    "print('We have',len(biology_posts), 'titles in the data')"
   ]
  },
  {
   "cell_type": "code",
   "execution_count": 7,
   "metadata": {},
   "outputs": [
    {
     "name": "stdout",
     "output_type": "stream",
     "text": [
      "We have 3038 titles in the data\n"
     ]
    }
   ],
   "source": [
    "physics_posts = get_filtered_posts(\"physics\", 3000)\n",
    "print('We have',len(physics_posts), 'titles in the data')"
   ]
  },
  {
   "cell_type": "code",
   "execution_count": 8,
   "metadata": {},
   "outputs": [],
   "source": [
    "bio_df = pd.DataFrame(biology_posts)\n",
    "phys_df = pd.DataFrame(physics_posts)"
   ]
  },
  {
   "cell_type": "code",
   "execution_count": 9,
   "metadata": {},
   "outputs": [],
   "source": [
    "bio_df = bio_df[['title', 'selftext', 'score', 'created_utc']]"
   ]
  },
  {
   "cell_type": "code",
   "execution_count": 10,
   "metadata": {},
   "outputs": [],
   "source": [
    "phys_df = phys_df[['title', 'selftext', 'score', 'created_utc']]"
   ]
  },
  {
   "cell_type": "code",
   "execution_count": 11,
   "metadata": {},
   "outputs": [
    {
     "name": "stderr",
     "output_type": "stream",
     "text": [
      "<ipython-input-11-3aba9cbdba64>:2: FutureWarning: The default value of regex will change from True to False in a future version.\n",
      "  df['title'] = df['title'].str.replace(r\"http\\S+\", \"\")\n",
      "<ipython-input-11-3aba9cbdba64>:4: FutureWarning: The default value of regex will change from True to False in a future version.\n",
      "  df['title'] = df['title'].str.replace(r\"@\\S+\", \"\")\n",
      "<ipython-input-11-3aba9cbdba64>:5: FutureWarning: The default value of regex will change from True to False in a future version.\n",
      "  df['title'] = df['title'].str.replace(r\"[^A-Za-z0-9(),!?@\\'\\`\\\"\\_\\n]\", \" \")\n"
     ]
    }
   ],
   "source": [
    "def standardize_text(df, text_field):\n",
    "    df['title'] = df['title'].str.replace(r\"http\\S+\", \"\")\n",
    "    df['title'] = df['title'].str.replace(r\"http\", \"\")\n",
    "    df['title'] = df['title'].str.replace(r\"@\\S+\", \"\")\n",
    "    df['title'] = df['title'].str.replace(r\"[^A-Za-z0-9(),!?@\\'\\`\\\"\\_\\n]\", \" \")\n",
    "    df['title'] = df['title'].str.replace(r\"@\", \"at\")\n",
    "    df['title'] = df['title'].str.lower()\n",
    "    return df\n",
    "\n",
    "bio_df = standardize_text(bio_df, 'title')\n",
    "phys_df = standardize_text(phys_df, 'title')"
   ]
  },
  {
   "cell_type": "code",
   "execution_count": 12,
   "metadata": {},
   "outputs": [
    {
     "name": "stderr",
     "output_type": "stream",
     "text": [
      "<ipython-input-11-3aba9cbdba64>:2: FutureWarning: The default value of regex will change from True to False in a future version.\n",
      "  df['title'] = df['title'].str.replace(r\"http\\S+\", \"\")\n",
      "<ipython-input-11-3aba9cbdba64>:4: FutureWarning: The default value of regex will change from True to False in a future version.\n",
      "  df['title'] = df['title'].str.replace(r\"@\\S+\", \"\")\n",
      "<ipython-input-11-3aba9cbdba64>:5: FutureWarning: The default value of regex will change from True to False in a future version.\n",
      "  df['title'] = df['title'].str.replace(r\"[^A-Za-z0-9(),!?@\\'\\`\\\"\\_\\n]\", \" \")\n"
     ]
    },
    {
     "data": {
      "text/html": [
       "<div>\n",
       "<style scoped>\n",
       "    .dataframe tbody tr th:only-of-type {\n",
       "        vertical-align: middle;\n",
       "    }\n",
       "\n",
       "    .dataframe tbody tr th {\n",
       "        vertical-align: top;\n",
       "    }\n",
       "\n",
       "    .dataframe thead th {\n",
       "        text-align: right;\n",
       "    }\n",
       "</style>\n",
       "<table border=\"1\" class=\"dataframe\">\n",
       "  <thead>\n",
       "    <tr style=\"text-align: right;\">\n",
       "      <th></th>\n",
       "      <th>title</th>\n",
       "      <th>selftext</th>\n",
       "      <th>score</th>\n",
       "      <th>created_utc</th>\n",
       "    </tr>\n",
       "  </thead>\n",
       "  <tbody>\n",
       "    <tr>\n",
       "      <th>0</th>\n",
       "      <td>swine flu</td>\n",
       "      <td>Younger people were more at risk of becoming i...</td>\n",
       "      <td>1</td>\n",
       "      <td>1610049677</td>\n",
       "    </tr>\n",
       "    <tr>\n",
       "      <th>1</th>\n",
       "      <td>sapolsky  how good is he?</td>\n",
       "      <td>So I just discovered this series of Stanford l...</td>\n",
       "      <td>0</td>\n",
       "      <td>1610047606</td>\n",
       "    </tr>\n",
       "    <tr>\n",
       "      <th>2</th>\n",
       "      <td>cheap enzyme suppliers?</td>\n",
       "      <td>I had an idea for a project, but the idea is c...</td>\n",
       "      <td>1</td>\n",
       "      <td>1610041771</td>\n",
       "    </tr>\n",
       "    <tr>\n",
       "      <th>3</th>\n",
       "      <td>kinda urgent</td>\n",
       "      <td>I’ve had an unfortunate few months and I have ...</td>\n",
       "      <td>1</td>\n",
       "      <td>1610041415</td>\n",
       "    </tr>\n",
       "    <tr>\n",
       "      <th>4</th>\n",
       "      <td>how long does it take to get thyroid levels ba...</td>\n",
       "      <td>So I have had iron deficiency and got 500mg IV...</td>\n",
       "      <td>1</td>\n",
       "      <td>1610033759</td>\n",
       "    </tr>\n",
       "  </tbody>\n",
       "</table>\n",
       "</div>"
      ],
      "text/plain": [
       "                                               title  \\\n",
       "0                                          swine flu   \n",
       "1                          sapolsky  how good is he?   \n",
       "2                            cheap enzyme suppliers?   \n",
       "3                                       kinda urgent   \n",
       "4  how long does it take to get thyroid levels ba...   \n",
       "\n",
       "                                            selftext  score  created_utc  \n",
       "0  Younger people were more at risk of becoming i...      1   1610049677  \n",
       "1  So I just discovered this series of Stanford l...      0   1610047606  \n",
       "2  I had an idea for a project, but the idea is c...      1   1610041771  \n",
       "3  I’ve had an unfortunate few months and I have ...      1   1610041415  \n",
       "4  So I have had iron deficiency and got 500mg IV...      1   1610033759  "
      ]
     },
     "execution_count": 12,
     "metadata": {},
     "output_type": "execute_result"
    }
   ],
   "source": [
    "bio_df = standardize_text(bio_df, 'title')\n",
    "bio_df.head()"
   ]
  },
  {
   "cell_type": "code",
   "execution_count": 13,
   "metadata": {},
   "outputs": [
    {
     "name": "stderr",
     "output_type": "stream",
     "text": [
      "<ipython-input-11-3aba9cbdba64>:2: FutureWarning: The default value of regex will change from True to False in a future version.\n",
      "  df['title'] = df['title'].str.replace(r\"http\\S+\", \"\")\n",
      "<ipython-input-11-3aba9cbdba64>:4: FutureWarning: The default value of regex will change from True to False in a future version.\n",
      "  df['title'] = df['title'].str.replace(r\"@\\S+\", \"\")\n",
      "<ipython-input-11-3aba9cbdba64>:5: FutureWarning: The default value of regex will change from True to False in a future version.\n",
      "  df['title'] = df['title'].str.replace(r\"[^A-Za-z0-9(),!?@\\'\\`\\\"\\_\\n]\", \" \")\n"
     ]
    },
    {
     "data": {
      "text/html": [
       "<div>\n",
       "<style scoped>\n",
       "    .dataframe tbody tr th:only-of-type {\n",
       "        vertical-align: middle;\n",
       "    }\n",
       "\n",
       "    .dataframe tbody tr th {\n",
       "        vertical-align: top;\n",
       "    }\n",
       "\n",
       "    .dataframe thead th {\n",
       "        text-align: right;\n",
       "    }\n",
       "</style>\n",
       "<table border=\"1\" class=\"dataframe\">\n",
       "  <thead>\n",
       "    <tr style=\"text-align: right;\">\n",
       "      <th></th>\n",
       "      <th>title</th>\n",
       "      <th>selftext</th>\n",
       "      <th>score</th>\n",
       "      <th>created_utc</th>\n",
       "    </tr>\n",
       "  </thead>\n",
       "  <tbody>\n",
       "    <tr>\n",
       "      <th>0</th>\n",
       "      <td>please help with this problem</td>\n",
       "      <td>A 2.20 kg red ball moving to the right at 19.1...</td>\n",
       "      <td>1</td>\n",
       "      <td>1610045825</td>\n",
       "    </tr>\n",
       "    <tr>\n",
       "      <th>1</th>\n",
       "      <td>buffer stop problem</td>\n",
       "      <td>I was challenged by My RS Teacher to find out ...</td>\n",
       "      <td>1</td>\n",
       "      <td>1610043853</td>\n",
       "    </tr>\n",
       "    <tr>\n",
       "      <th>2</th>\n",
       "      <td>why does voltage increase cause a current decr...</td>\n",
       "      <td>Now, I understand that having less secondary t...</td>\n",
       "      <td>1</td>\n",
       "      <td>1610043191</td>\n",
       "    </tr>\n",
       "    <tr>\n",
       "      <th>3</th>\n",
       "      <td>how should a computer scientist learn physics?</td>\n",
       "      <td>Hi guys, I am studying Computer Science pursui...</td>\n",
       "      <td>1</td>\n",
       "      <td>1610042001</td>\n",
       "    </tr>\n",
       "    <tr>\n",
       "      <th>4</th>\n",
       "      <td>can someone help me solve this question plz</td>\n",
       "      <td>A parallel plate capacitor with circular pla...</td>\n",
       "      <td>1</td>\n",
       "      <td>1610039447</td>\n",
       "    </tr>\n",
       "  </tbody>\n",
       "</table>\n",
       "</div>"
      ],
      "text/plain": [
       "                                               title  \\\n",
       "0                      please help with this problem   \n",
       "1                                buffer stop problem   \n",
       "2  why does voltage increase cause a current decr...   \n",
       "3     how should a computer scientist learn physics?   \n",
       "4        can someone help me solve this question plz   \n",
       "\n",
       "                                            selftext  score  created_utc  \n",
       "0  A 2.20 kg red ball moving to the right at 19.1...      1   1610045825  \n",
       "1  I was challenged by My RS Teacher to find out ...      1   1610043853  \n",
       "2  Now, I understand that having less secondary t...      1   1610043191  \n",
       "3  Hi guys, I am studying Computer Science pursui...      1   1610042001  \n",
       "4    A parallel plate capacitor with circular pla...      1   1610039447  "
      ]
     },
     "execution_count": 13,
     "metadata": {},
     "output_type": "execute_result"
    }
   ],
   "source": [
    "phys_df = standardize_text(phys_df, 'title')\n",
    "phys_df.head()"
   ]
  },
  {
   "cell_type": "code",
   "execution_count": 29,
   "metadata": {},
   "outputs": [],
   "source": [
    "# Major credit to \n",
    "# https://towardsdatascience.com/topic-modeling-quora-questions-with-lda-nmf-aff8dce5e1dd\n",
    "    \n",
    "import spacy\n",
    "def clean_text(text):\n",
    "    '''Make text lowercase, remove text in square brackets, \n",
    "    remove punctuation and remove words containing numbers.'''\n",
    "    text = text.lower()\n",
    "    text = re.sub(r'\\[.*?\\]', '', text)\n",
    "    text = re.sub('[^\\w\\s]','', text)\n",
    "    text = re.sub(r'\\w*\\d\\w*', '', text)\n",
    "    return text\n",
    "\n",
    "bio_clean = pd.DataFrame(bio_df.title.apply(lambda x: clean_text(x)))\n",
    "phys_clean = pd.DataFrame(phys_df.title.apply(lambda x: clean_text(x)))\n",
    "\n",
    "nlp = spacy.load('en_core_web_sm')\n",
    "\n",
    "def lemmatizer(text):        \n",
    "    sent = []\n",
    "    doc = nlp(text)\n",
    "    for word in doc:\n",
    "        sent.append(word.lemma_)\n",
    "    return \" \".join(sent)\n",
    "    "
   ]
  },
  {
   "cell_type": "code",
   "execution_count": 30,
   "metadata": {},
   "outputs": [],
   "source": [
    "bio_clean['title'] = bio_clean.apply(lambda x: lemmatizer(x['title']), axis=1)\n",
    "bio_clean['title'] = bio_clean['title'].str.replace('-PRON-', '')\n",
    "\n",
    "phys_clean['title'] = phys_clean.apply(lambda x: lemmatizer(x['title']), axis=1)\n",
    "phys_clean['title'] = phys_clean['title'].str.replace('-PRON-', '')"
   ]
  },
  {
   "cell_type": "code",
   "execution_count": 32,
   "metadata": {
    "scrolled": true
   },
   "outputs": [
    {
     "data": {
      "text/plain": [
       "pandas.core.frame.DataFrame"
      ]
     },
     "execution_count": 32,
     "metadata": {},
     "output_type": "execute_result"
    }
   ],
   "source": [
    "type(bio_clean)"
   ]
  },
  {
   "cell_type": "code",
   "execution_count": 16,
   "metadata": {},
   "outputs": [
    {
     "data": {
      "text/plain": [
       "title    0\n",
       "dtype: int64"
      ]
     },
     "execution_count": 16,
     "metadata": {},
     "output_type": "execute_result"
    }
   ],
   "source": [
    "bio_clean.isnull().sum()"
   ]
  },
  {
   "cell_type": "code",
   "execution_count": 17,
   "metadata": {},
   "outputs": [
    {
     "data": {
      "text/html": [
       "<div>\n",
       "<style scoped>\n",
       "    .dataframe tbody tr th:only-of-type {\n",
       "        vertical-align: middle;\n",
       "    }\n",
       "\n",
       "    .dataframe tbody tr th {\n",
       "        vertical-align: top;\n",
       "    }\n",
       "\n",
       "    .dataframe thead th {\n",
       "        text-align: right;\n",
       "    }\n",
       "</style>\n",
       "<table border=\"1\" class=\"dataframe\">\n",
       "  <thead>\n",
       "    <tr style=\"text-align: right;\">\n",
       "      <th></th>\n",
       "      <th>title</th>\n",
       "    </tr>\n",
       "  </thead>\n",
       "  <tbody>\n",
       "    <tr>\n",
       "      <th>0</th>\n",
       "      <td>please help with this problem</td>\n",
       "    </tr>\n",
       "    <tr>\n",
       "      <th>1</th>\n",
       "      <td>buffer stop problem</td>\n",
       "    </tr>\n",
       "    <tr>\n",
       "      <th>2</th>\n",
       "      <td>why do voltage increase cause a current decrea...</td>\n",
       "    </tr>\n",
       "    <tr>\n",
       "      <th>3</th>\n",
       "      <td>how should a computer scientist learn physics</td>\n",
       "    </tr>\n",
       "    <tr>\n",
       "      <th>4</th>\n",
       "      <td>can someone help  solve this question plz</td>\n",
       "    </tr>\n",
       "  </tbody>\n",
       "</table>\n",
       "</div>"
      ],
      "text/plain": [
       "                                               title\n",
       "0                      please help with this problem\n",
       "1                                buffer stop problem\n",
       "2  why do voltage increase cause a current decrea...\n",
       "3      how should a computer scientist learn physics\n",
       "4          can someone help  solve this question plz"
      ]
     },
     "execution_count": 17,
     "metadata": {},
     "output_type": "execute_result"
    }
   ],
   "source": [
    "phys_clean.head()"
   ]
  },
  {
   "cell_type": "code",
   "execution_count": 18,
   "metadata": {},
   "outputs": [
    {
     "data": {
      "text/plain": [
       "title    0\n",
       "dtype: int64"
      ]
     },
     "execution_count": 18,
     "metadata": {},
     "output_type": "execute_result"
    }
   ],
   "source": [
    "phys_clean.isnull().sum()"
   ]
  },
  {
   "cell_type": "code",
   "execution_count": 33,
   "metadata": {},
   "outputs": [],
   "source": [
    "bio_clean.to_csv('datasets/bio_clean.csv', index=False)\n",
    "phys_clean.to_csv('datasets/phys_clean.csv', index=False)"
   ]
  },
  {
   "cell_type": "code",
   "execution_count": null,
   "metadata": {},
   "outputs": [],
   "source": []
  }
 ],
 "metadata": {
  "kernelspec": {
   "display_name": "Python 3",
   "language": "python",
   "name": "python3"
  },
  "language_info": {
   "codemirror_mode": {
    "name": "ipython",
    "version": 3
   },
   "file_extension": ".py",
   "mimetype": "text/x-python",
   "name": "python",
   "nbconvert_exporter": "python",
   "pygments_lexer": "ipython3",
   "version": "3.8.5"
  }
 },
 "nbformat": 4,
 "nbformat_minor": 4
}
