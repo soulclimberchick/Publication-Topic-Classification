{
 "cells": [
  {
   "cell_type": "markdown",
   "metadata": {},
   "source": [
    "# Preprocessing"
   ]
  },
  {
   "cell_type": "code",
   "execution_count": null,
   "metadata": {},
   "outputs": [],
   "source": []
  },
  {
   "cell_type": "markdown",
   "metadata": {},
   "source": [
    "Imports"
   ]
  },
  {
   "cell_type": "code",
   "execution_count": 1,
   "metadata": {},
   "outputs": [],
   "source": [
    "import requests\n",
    "import pandas as pd\n",
    "import numpy as np\n",
    "import time"
   ]
  },
  {
   "cell_type": "markdown",
   "metadata": {},
   "source": [
    "Pushshift Params"
   ]
  },
  {
   "cell_type": "code",
   "execution_count": 37,
   "metadata": {},
   "outputs": [],
   "source": [
    "params = {\n",
    "    \"subreddit\" : 'biology',\n",
    "    \"size\" : 25,\n",
    "}"
   ]
  },
  {
   "cell_type": "code",
   "execution_count": 38,
   "metadata": {},
   "outputs": [],
   "source": [
    "post_url = 'https://api.pushshift.io/reddit/submission/search'"
   ]
  },
  {
   "cell_type": "code",
   "execution_count": 39,
   "metadata": {},
   "outputs": [],
   "source": [
    "# Usual requests.get method\n",
    "res = requests.get(post_url, params)"
   ]
  },
  {
   "cell_type": "code",
   "execution_count": 40,
   "metadata": {},
   "outputs": [
    {
     "data": {
      "text/plain": [
       "dict_keys(['data'])"
      ]
     },
     "execution_count": 40,
     "metadata": {},
     "output_type": "execute_result"
    }
   ],
   "source": [
    "res.json().keys()"
   ]
  },
  {
   "cell_type": "code",
   "execution_count": 41,
   "metadata": {},
   "outputs": [
    {
     "data": {
      "text/html": [
       "<div>\n",
       "<style scoped>\n",
       "    .dataframe tbody tr th:only-of-type {\n",
       "        vertical-align: middle;\n",
       "    }\n",
       "\n",
       "    .dataframe tbody tr th {\n",
       "        vertical-align: top;\n",
       "    }\n",
       "\n",
       "    .dataframe thead th {\n",
       "        text-align: right;\n",
       "    }\n",
       "</style>\n",
       "<table border=\"1\" class=\"dataframe\">\n",
       "  <thead>\n",
       "    <tr style=\"text-align: right;\">\n",
       "      <th></th>\n",
       "      <th>all_awardings</th>\n",
       "      <th>allow_live_comments</th>\n",
       "      <th>author</th>\n",
       "      <th>author_flair_css_class</th>\n",
       "      <th>author_flair_richtext</th>\n",
       "      <th>author_flair_text</th>\n",
       "      <th>author_flair_type</th>\n",
       "      <th>author_fullname</th>\n",
       "      <th>author_patreon_flair</th>\n",
       "      <th>author_premium</th>\n",
       "      <th>...</th>\n",
       "      <th>url</th>\n",
       "      <th>url_overridden_by_dest</th>\n",
       "      <th>whitelist_status</th>\n",
       "      <th>wls</th>\n",
       "      <th>removed_by_category</th>\n",
       "      <th>crosspost_parent</th>\n",
       "      <th>crosspost_parent_list</th>\n",
       "      <th>author_flair_background_color</th>\n",
       "      <th>author_flair_text_color</th>\n",
       "      <th>link_flair_template_id</th>\n",
       "    </tr>\n",
       "  </thead>\n",
       "  <tbody>\n",
       "    <tr>\n",
       "      <th>0</th>\n",
       "      <td>[]</td>\n",
       "      <td>False</td>\n",
       "      <td>FrankenscienceNews</td>\n",
       "      <td>None</td>\n",
       "      <td>[]</td>\n",
       "      <td>None</td>\n",
       "      <td>text</td>\n",
       "      <td>t2_6mow93sb</td>\n",
       "      <td>False</td>\n",
       "      <td>False</td>\n",
       "      <td>...</td>\n",
       "      <td>https://youtu.be/TKt0KOQ9xJo</td>\n",
       "      <td>https://youtu.be/TKt0KOQ9xJo</td>\n",
       "      <td>all_ads</td>\n",
       "      <td>6</td>\n",
       "      <td>NaN</td>\n",
       "      <td>NaN</td>\n",
       "      <td>NaN</td>\n",
       "      <td>NaN</td>\n",
       "      <td>NaN</td>\n",
       "      <td>NaN</td>\n",
       "    </tr>\n",
       "    <tr>\n",
       "      <th>1</th>\n",
       "      <td>[]</td>\n",
       "      <td>False</td>\n",
       "      <td>Bluedragonwater2266</td>\n",
       "      <td>None</td>\n",
       "      <td>[]</td>\n",
       "      <td>None</td>\n",
       "      <td>text</td>\n",
       "      <td>t2_51c0ln5j</td>\n",
       "      <td>False</td>\n",
       "      <td>False</td>\n",
       "      <td>...</td>\n",
       "      <td>https://i.redd.it/uv0qi0tgre861.gif</td>\n",
       "      <td>https://i.redd.it/uv0qi0tgre861.gif</td>\n",
       "      <td>all_ads</td>\n",
       "      <td>6</td>\n",
       "      <td>moderator</td>\n",
       "      <td>NaN</td>\n",
       "      <td>NaN</td>\n",
       "      <td>NaN</td>\n",
       "      <td>NaN</td>\n",
       "      <td>NaN</td>\n",
       "    </tr>\n",
       "    <tr>\n",
       "      <th>2</th>\n",
       "      <td>[]</td>\n",
       "      <td>False</td>\n",
       "      <td>redditjule</td>\n",
       "      <td>None</td>\n",
       "      <td>[]</td>\n",
       "      <td>None</td>\n",
       "      <td>text</td>\n",
       "      <td>t2_1norz0nu</td>\n",
       "      <td>False</td>\n",
       "      <td>False</td>\n",
       "      <td>...</td>\n",
       "      <td>https://www.reddit.com/r/biology/comments/kndh...</td>\n",
       "      <td>NaN</td>\n",
       "      <td>all_ads</td>\n",
       "      <td>6</td>\n",
       "      <td>NaN</td>\n",
       "      <td>NaN</td>\n",
       "      <td>NaN</td>\n",
       "      <td>NaN</td>\n",
       "      <td>NaN</td>\n",
       "      <td>NaN</td>\n",
       "    </tr>\n",
       "    <tr>\n",
       "      <th>3</th>\n",
       "      <td>[]</td>\n",
       "      <td>False</td>\n",
       "      <td>Comfortable-Shame667</td>\n",
       "      <td>None</td>\n",
       "      <td>[]</td>\n",
       "      <td>None</td>\n",
       "      <td>text</td>\n",
       "      <td>t2_6dped9et</td>\n",
       "      <td>False</td>\n",
       "      <td>False</td>\n",
       "      <td>...</td>\n",
       "      <td>https://www.reddit.com/r/biology/comments/kncd...</td>\n",
       "      <td>NaN</td>\n",
       "      <td>all_ads</td>\n",
       "      <td>6</td>\n",
       "      <td>NaN</td>\n",
       "      <td>NaN</td>\n",
       "      <td>NaN</td>\n",
       "      <td>NaN</td>\n",
       "      <td>NaN</td>\n",
       "      <td>NaN</td>\n",
       "    </tr>\n",
       "    <tr>\n",
       "      <th>4</th>\n",
       "      <td>[]</td>\n",
       "      <td>False</td>\n",
       "      <td>gaseoi87</td>\n",
       "      <td>None</td>\n",
       "      <td>[]</td>\n",
       "      <td>None</td>\n",
       "      <td>text</td>\n",
       "      <td>t2_7a1xr0n7</td>\n",
       "      <td>False</td>\n",
       "      <td>False</td>\n",
       "      <td>...</td>\n",
       "      <td>https://www.tohoku.ac.jp/en/press/protein_tell...</td>\n",
       "      <td>https://www.tohoku.ac.jp/en/press/protein_tell...</td>\n",
       "      <td>all_ads</td>\n",
       "      <td>6</td>\n",
       "      <td>NaN</td>\n",
       "      <td>t3_klk9my</td>\n",
       "      <td>[{'all_awardings': [], 'allow_live_comments': ...</td>\n",
       "      <td>NaN</td>\n",
       "      <td>NaN</td>\n",
       "      <td>NaN</td>\n",
       "    </tr>\n",
       "  </tbody>\n",
       "</table>\n",
       "<p>5 rows × 74 columns</p>\n",
       "</div>"
      ],
      "text/plain": [
       "  all_awardings  allow_live_comments                author  \\\n",
       "0            []                False    FrankenscienceNews   \n",
       "1            []                False   Bluedragonwater2266   \n",
       "2            []                False            redditjule   \n",
       "3            []                False  Comfortable-Shame667   \n",
       "4            []                False              gaseoi87   \n",
       "\n",
       "  author_flair_css_class author_flair_richtext author_flair_text  \\\n",
       "0                   None                    []              None   \n",
       "1                   None                    []              None   \n",
       "2                   None                    []              None   \n",
       "3                   None                    []              None   \n",
       "4                   None                    []              None   \n",
       "\n",
       "  author_flair_type author_fullname  author_patreon_flair  author_premium  \\\n",
       "0              text     t2_6mow93sb                 False           False   \n",
       "1              text     t2_51c0ln5j                 False           False   \n",
       "2              text     t2_1norz0nu                 False           False   \n",
       "3              text     t2_6dped9et                 False           False   \n",
       "4              text     t2_7a1xr0n7                 False           False   \n",
       "\n",
       "   ...                                                url  \\\n",
       "0  ...                       https://youtu.be/TKt0KOQ9xJo   \n",
       "1  ...                https://i.redd.it/uv0qi0tgre861.gif   \n",
       "2  ...  https://www.reddit.com/r/biology/comments/kndh...   \n",
       "3  ...  https://www.reddit.com/r/biology/comments/kncd...   \n",
       "4  ...  https://www.tohoku.ac.jp/en/press/protein_tell...   \n",
       "\n",
       "                              url_overridden_by_dest  whitelist_status  wls  \\\n",
       "0                       https://youtu.be/TKt0KOQ9xJo           all_ads    6   \n",
       "1                https://i.redd.it/uv0qi0tgre861.gif           all_ads    6   \n",
       "2                                                NaN           all_ads    6   \n",
       "3                                                NaN           all_ads    6   \n",
       "4  https://www.tohoku.ac.jp/en/press/protein_tell...           all_ads    6   \n",
       "\n",
       "  removed_by_category crosspost_parent  \\\n",
       "0                 NaN              NaN   \n",
       "1           moderator              NaN   \n",
       "2                 NaN              NaN   \n",
       "3                 NaN              NaN   \n",
       "4                 NaN        t3_klk9my   \n",
       "\n",
       "                               crosspost_parent_list  \\\n",
       "0                                                NaN   \n",
       "1                                                NaN   \n",
       "2                                                NaN   \n",
       "3                                                NaN   \n",
       "4  [{'all_awardings': [], 'allow_live_comments': ...   \n",
       "\n",
       "  author_flair_background_color  author_flair_text_color  \\\n",
       "0                           NaN                      NaN   \n",
       "1                           NaN                      NaN   \n",
       "2                           NaN                      NaN   \n",
       "3                           NaN                      NaN   \n",
       "4                           NaN                      NaN   \n",
       "\n",
       "   link_flair_template_id  \n",
       "0                     NaN  \n",
       "1                     NaN  \n",
       "2                     NaN  \n",
       "3                     NaN  \n",
       "4                     NaN  \n",
       "\n",
       "[5 rows x 74 columns]"
      ]
     },
     "execution_count": 41,
     "metadata": {},
     "output_type": "execute_result"
    }
   ],
   "source": [
    "pd.DataFrame(res.json()['data']).head()"
   ]
  },
  {
   "cell_type": "code",
   "execution_count": 42,
   "metadata": {},
   "outputs": [],
   "source": [
    "# Control flow for the above\n",
    "res = requests.get(post_url, params)\n",
    "if res.status_code == 200:\n",
    "    posts_df = pd.DataFrame(res.json()['data'])\n",
    "else:\n",
    "    print(res.status_code)"
   ]
  },
  {
   "cell_type": "code",
   "execution_count": 43,
   "metadata": {},
   "outputs": [
    {
     "data": {
      "text/html": [
       "<div>\n",
       "<style scoped>\n",
       "    .dataframe tbody tr th:only-of-type {\n",
       "        vertical-align: middle;\n",
       "    }\n",
       "\n",
       "    .dataframe tbody tr th {\n",
       "        vertical-align: top;\n",
       "    }\n",
       "\n",
       "    .dataframe thead th {\n",
       "        text-align: right;\n",
       "    }\n",
       "</style>\n",
       "<table border=\"1\" class=\"dataframe\">\n",
       "  <thead>\n",
       "    <tr style=\"text-align: right;\">\n",
       "      <th></th>\n",
       "      <th>title</th>\n",
       "      <th>selftext</th>\n",
       "      <th>score</th>\n",
       "      <th>created_utc</th>\n",
       "    </tr>\n",
       "  </thead>\n",
       "  <tbody>\n",
       "    <tr>\n",
       "      <th>0</th>\n",
       "      <td>Vultures have an extremely tough digestive sys...</td>\n",
       "      <td></td>\n",
       "      <td>1</td>\n",
       "      <td>1609371860</td>\n",
       "    </tr>\n",
       "    <tr>\n",
       "      <th>1</th>\n",
       "      <td>Get ready !</td>\n",
       "      <td></td>\n",
       "      <td>1</td>\n",
       "      <td>1609370639</td>\n",
       "    </tr>\n",
       "    <tr>\n",
       "      <th>2</th>\n",
       "      <td>Is ATP only made from ADP? Is there a way for ...</td>\n",
       "      <td></td>\n",
       "      <td>1</td>\n",
       "      <td>1609370625</td>\n",
       "    </tr>\n",
       "    <tr>\n",
       "      <th>3</th>\n",
       "      <td>secondary 1 Biology Chapter 3 lesson 2 Differe...</td>\n",
       "      <td>[https://youtu.be/\\_52zmIA4B0M](https://youtu....</td>\n",
       "      <td>1</td>\n",
       "      <td>1609367181</td>\n",
       "    </tr>\n",
       "    <tr>\n",
       "      <th>4</th>\n",
       "      <td>Protein Tells Developing Cells to Stick Together</td>\n",
       "      <td></td>\n",
       "      <td>1</td>\n",
       "      <td>1609366791</td>\n",
       "    </tr>\n",
       "    <tr>\n",
       "      <th>5</th>\n",
       "      <td>Larger Bumblebees learn which flowers are fill...</td>\n",
       "      <td></td>\n",
       "      <td>1</td>\n",
       "      <td>1609366679</td>\n",
       "    </tr>\n",
       "    <tr>\n",
       "      <th>6</th>\n",
       "      <td>Should i become a biologist?</td>\n",
       "      <td>Hi there i am thinking of becoming a biologist...</td>\n",
       "      <td>1</td>\n",
       "      <td>1609366298</td>\n",
       "    </tr>\n",
       "    <tr>\n",
       "      <th>7</th>\n",
       "      <td>Frog Red Blood Cells under the microscope.</td>\n",
       "      <td></td>\n",
       "      <td>1</td>\n",
       "      <td>1609366221</td>\n",
       "    </tr>\n",
       "    <tr>\n",
       "      <th>8</th>\n",
       "      <td>Sample size per population for Whole Genome Se...</td>\n",
       "      <td>[removed]</td>\n",
       "      <td>1</td>\n",
       "      <td>1609364342</td>\n",
       "    </tr>\n",
       "    <tr>\n",
       "      <th>9</th>\n",
       "      <td>Stained Thyroid gland under 100x oil immersion...</td>\n",
       "      <td></td>\n",
       "      <td>1</td>\n",
       "      <td>1609363349</td>\n",
       "    </tr>\n",
       "    <tr>\n",
       "      <th>10</th>\n",
       "      <td>Do neuropeptides get recycled back into the ce...</td>\n",
       "      <td>[removed]</td>\n",
       "      <td>1</td>\n",
       "      <td>1609362419</td>\n",
       "    </tr>\n",
       "    <tr>\n",
       "      <th>11</th>\n",
       "      <td>I need help identifying this. I think it’s a m...</td>\n",
       "      <td></td>\n",
       "      <td>1</td>\n",
       "      <td>1609359613</td>\n",
       "    </tr>\n",
       "    <tr>\n",
       "      <th>12</th>\n",
       "      <td>Can music increase someones Mental Strength</td>\n",
       "      <td>[removed]</td>\n",
       "      <td>1</td>\n",
       "      <td>1609358282</td>\n",
       "    </tr>\n",
       "    <tr>\n",
       "      <th>13</th>\n",
       "      <td>HoloLens Integration with Microsoft Dynamics 365</td>\n",
       "      <td>[removed]</td>\n",
       "      <td>1</td>\n",
       "      <td>1609355719</td>\n",
       "    </tr>\n",
       "    <tr>\n",
       "      <th>14</th>\n",
       "      <td>Potential masters after bio bachelors degree (...</td>\n",
       "      <td>Hey guys I'm halfway through my senior year wi...</td>\n",
       "      <td>1</td>\n",
       "      <td>1609353701</td>\n",
       "    </tr>\n",
       "    <tr>\n",
       "      <th>15</th>\n",
       "      <td>Amoeba Siblings</td>\n",
       "      <td></td>\n",
       "      <td>1</td>\n",
       "      <td>1609353105</td>\n",
       "    </tr>\n",
       "    <tr>\n",
       "      <th>16</th>\n",
       "      <td>\"Amoeba Sisters\"</td>\n",
       "      <td></td>\n",
       "      <td>1</td>\n",
       "      <td>1609353035</td>\n",
       "    </tr>\n",
       "    <tr>\n",
       "      <th>17</th>\n",
       "      <td>Do I need a glucose spike?</td>\n",
       "      <td>[removed]</td>\n",
       "      <td>1</td>\n",
       "      <td>1609352182</td>\n",
       "    </tr>\n",
       "    <tr>\n",
       "      <th>18</th>\n",
       "      <td>why are top of fingers glossy</td>\n",
       "      <td></td>\n",
       "      <td>1</td>\n",
       "      <td>1609351334</td>\n",
       "    </tr>\n",
       "    <tr>\n",
       "      <th>19</th>\n",
       "      <td>Psilocin bound to Serotonin Receptors Part 2</td>\n",
       "      <td></td>\n",
       "      <td>1</td>\n",
       "      <td>1609350380</td>\n",
       "    </tr>\n",
       "    <tr>\n",
       "      <th>20</th>\n",
       "      <td>Study: Organic meats found to have roughly sim...</td>\n",
       "      <td></td>\n",
       "      <td>1</td>\n",
       "      <td>1609348013</td>\n",
       "    </tr>\n",
       "    <tr>\n",
       "      <th>21</th>\n",
       "      <td>Is it a cell culture, or an astronomical photo...</td>\n",
       "      <td></td>\n",
       "      <td>1</td>\n",
       "      <td>1609347867</td>\n",
       "    </tr>\n",
       "    <tr>\n",
       "      <th>22</th>\n",
       "      <td>Career advise. Hi, quitted my Ph.D. after 8 mo...</td>\n",
       "      <td>(sorry for my English)  \\n\\n\\nHi, I am a forei...</td>\n",
       "      <td>1</td>\n",
       "      <td>1609347363</td>\n",
       "    </tr>\n",
       "    <tr>\n",
       "      <th>23</th>\n",
       "      <td>Are there any good anatomically correct human ...</td>\n",
       "      <td></td>\n",
       "      <td>1</td>\n",
       "      <td>1609346912</td>\n",
       "    </tr>\n",
       "    <tr>\n",
       "      <th>24</th>\n",
       "      <td>Evolution of Obligate Scavenging in Vultures</td>\n",
       "      <td></td>\n",
       "      <td>1</td>\n",
       "      <td>1609345169</td>\n",
       "    </tr>\n",
       "  </tbody>\n",
       "</table>\n",
       "</div>"
      ],
      "text/plain": [
       "                                                title  \\\n",
       "0   Vultures have an extremely tough digestive sys...   \n",
       "1                                         Get ready !   \n",
       "2   Is ATP only made from ADP? Is there a way for ...   \n",
       "3   secondary 1 Biology Chapter 3 lesson 2 Differe...   \n",
       "4    Protein Tells Developing Cells to Stick Together   \n",
       "5   Larger Bumblebees learn which flowers are fill...   \n",
       "6                        Should i become a biologist?   \n",
       "7          Frog Red Blood Cells under the microscope.   \n",
       "8   Sample size per population for Whole Genome Se...   \n",
       "9   Stained Thyroid gland under 100x oil immersion...   \n",
       "10  Do neuropeptides get recycled back into the ce...   \n",
       "11  I need help identifying this. I think it’s a m...   \n",
       "12        Can music increase someones Mental Strength   \n",
       "13   HoloLens Integration with Microsoft Dynamics 365   \n",
       "14  Potential masters after bio bachelors degree (...   \n",
       "15                                    Amoeba Siblings   \n",
       "16                                   \"Amoeba Sisters\"   \n",
       "17                         Do I need a glucose spike?   \n",
       "18                      why are top of fingers glossy   \n",
       "19       Psilocin bound to Serotonin Receptors Part 2   \n",
       "20  Study: Organic meats found to have roughly sim...   \n",
       "21  Is it a cell culture, or an astronomical photo...   \n",
       "22  Career advise. Hi, quitted my Ph.D. after 8 mo...   \n",
       "23  Are there any good anatomically correct human ...   \n",
       "24       Evolution of Obligate Scavenging in Vultures   \n",
       "\n",
       "                                             selftext  score  created_utc  \n",
       "0                                                          1   1609371860  \n",
       "1                                                          1   1609370639  \n",
       "2                                                          1   1609370625  \n",
       "3   [https://youtu.be/\\_52zmIA4B0M](https://youtu....      1   1609367181  \n",
       "4                                                          1   1609366791  \n",
       "5                                                          1   1609366679  \n",
       "6   Hi there i am thinking of becoming a biologist...      1   1609366298  \n",
       "7                                                          1   1609366221  \n",
       "8                                           [removed]      1   1609364342  \n",
       "9                                                          1   1609363349  \n",
       "10                                          [removed]      1   1609362419  \n",
       "11                                                         1   1609359613  \n",
       "12                                          [removed]      1   1609358282  \n",
       "13                                          [removed]      1   1609355719  \n",
       "14  Hey guys I'm halfway through my senior year wi...      1   1609353701  \n",
       "15                                                         1   1609353105  \n",
       "16                                                         1   1609353035  \n",
       "17                                          [removed]      1   1609352182  \n",
       "18                                                         1   1609351334  \n",
       "19                                                         1   1609350380  \n",
       "20                                                         1   1609348013  \n",
       "21                                                         1   1609347867  \n",
       "22  (sorry for my English)  \\n\\n\\nHi, I am a forei...      1   1609347363  \n",
       "23                                                         1   1609346912  \n",
       "24                                                         1   1609345169  "
      ]
     },
     "execution_count": 43,
     "metadata": {},
     "output_type": "execute_result"
    }
   ],
   "source": [
    "posts_df[['title', 'selftext', 'score', 'created_utc']]"
   ]
  },
  {
   "cell_type": "code",
   "execution_count": 44,
   "metadata": {},
   "outputs": [],
   "source": [
    "# the 4 columns that most folks will likely be interested in\n",
    "posts_df = posts_df[['title', 'selftext', 'score', 'created_utc']]"
   ]
  },
  {
   "cell_type": "code",
   "execution_count": 45,
   "metadata": {},
   "outputs": [],
   "source": [
    "# same as above, but for comments\n",
    "comment_url = 'https://api.pushshift.io/reddit/comment/search'\n",
    "res = requests.get(comment_url, params)\n",
    "if res.status_code == 200:\n",
    "    comments_df = pd.DataFrame(res.json()['data'])\n",
    "else:\n",
    "    print(res.status_code)"
   ]
  },
  {
   "cell_type": "code",
   "execution_count": 46,
   "metadata": {},
   "outputs": [],
   "source": [
    "comments_df = [['body', 'created_utc']]"
   ]
  },
  {
   "cell_type": "code",
   "execution_count": 47,
   "metadata": {},
   "outputs": [
    {
     "data": {
      "text/plain": [
       "1609371860"
      ]
     },
     "execution_count": 47,
     "metadata": {},
     "output_type": "execute_result"
    }
   ],
   "source": [
    "posts_df['created_utc'].max()"
   ]
  },
  {
   "cell_type": "code",
   "execution_count": 48,
   "metadata": {},
   "outputs": [
    {
     "data": {
      "text/plain": [
       "1609345169"
      ]
     },
     "execution_count": 48,
     "metadata": {},
     "output_type": "execute_result"
    }
   ],
   "source": [
    "posts_df['created_utc'].min()"
   ]
  },
  {
   "cell_type": "code",
   "execution_count": 26,
   "metadata": {},
   "outputs": [
    {
     "name": "stdout",
     "output_type": "stream",
     "text": [
      "res 1 code:  200\n",
      "res 2 code:  200\n",
      "res 3 code:  200\n",
      "res 4 code:  200\n",
      "res 5 code:  200\n",
      "res 6 code:  200\n",
      "res 7 code:  200\n",
      "res 8 code:  200\n",
      "res 9 code:  200\n",
      "res 10 code:  200\n"
     ]
    }
   ],
   "source": [
    "# just one example of a loop for pulling in subreddits\n",
    "url = 'https://api.pushshift.io/reddit/submission/search'\n",
    "dfs = []\n",
    "loops = 10\n",
    "subreddit = 'physics'\n",
    "params = {\n",
    "    'subreddit': subreddit,\n",
    "    'size': 100,\n",
    "}\n",
    "start_time = time.time()\n",
    "for i in range(loops):\n",
    "    current_time = time.time()\n",
    "    #requesting data\n",
    "    try:\n",
    "        res = requests.get(url, params)\n",
    "        print(f'res {i+1} code: ', res.status_code)\n",
    "        data = res.json()\n",
    "        posts = data['data']\n",
    "        dfs.append(pd.DataFrame(posts))\n",
    "        #get oldest post time and use as before parameter in next request\n",
    "        oldest = posts['created_utc'].min()\n",
    "        params['before'] = oldest\n",
    "        #sleep for 1 second\n",
    "        time.sleep(1)\n",
    "    except:\n",
    "        pass\n",
    "reddit_posts = pd.concat(dfs)\n",
    "#filename = subreddit + '.csv'\n",
    "#reddit_posts.to_csv('./datasets/' + filename, index=False)"
   ]
  },
  {
   "cell_type": "code",
   "execution_count": 27,
   "metadata": {},
   "outputs": [],
   "source": [
    "base_url = 'https://api.pushshift.io/reddit/submission/search'\n",
    "\n",
    "# pushshift params\n",
    "params = {\n",
    "    \"subreddit\" : 'physics',\n",
    "    \"size\" : 25,\n",
    "    \"before\": \"2020-03-14\"\n",
    "}"
   ]
  },
  {
   "cell_type": "code",
   "execution_count": 28,
   "metadata": {},
   "outputs": [],
   "source": [
    "res2 = requests.get(base_url, params)"
   ]
  },
  {
   "cell_type": "code",
   "execution_count": 29,
   "metadata": {},
   "outputs": [],
   "source": [
    "datasets_df = pd.DataFrame(res2.json()['data'])"
   ]
  },
  {
   "cell_type": "code",
   "execution_count": 30,
   "metadata": {},
   "outputs": [
    {
     "data": {
      "text/plain": [
       "0    2020-03-13 22:06:14\n",
       "1    2020-03-13 21:36:11\n",
       "2    2020-03-13 21:13:44\n",
       "3    2020-03-13 20:54:53\n",
       "4    2020-03-13 20:39:00\n",
       "5    2020-03-13 20:20:40\n",
       "6    2020-03-13 20:07:23\n",
       "7    2020-03-13 19:59:46\n",
       "8    2020-03-13 19:41:38\n",
       "9    2020-03-13 18:00:50\n",
       "10   2020-03-13 17:36:40\n",
       "11   2020-03-13 17:13:34\n",
       "12   2020-03-13 16:26:18\n",
       "13   2020-03-13 16:06:14\n",
       "14   2020-03-13 16:05:31\n",
       "15   2020-03-13 15:24:09\n",
       "16   2020-03-13 15:12:06\n",
       "17   2020-03-13 14:21:41\n",
       "18   2020-03-13 13:42:03\n",
       "19   2020-03-13 13:41:47\n",
       "20   2020-03-13 13:10:09\n",
       "21   2020-03-13 12:36:23\n",
       "22   2020-03-13 12:06:45\n",
       "23   2020-03-13 12:04:11\n",
       "24   2020-03-13 11:37:06\n",
       "Name: created_utc, dtype: datetime64[ns]"
      ]
     },
     "execution_count": 30,
     "metadata": {},
     "output_type": "execute_result"
    }
   ],
   "source": [
    "# converting UTC to datetime\n",
    "pd.to_datetime(datasets_df['created_utc'], unit='s')"
   ]
  },
  {
   "cell_type": "code",
   "execution_count": 31,
   "metadata": {},
   "outputs": [],
   "source": [
    "# saving datetime as a new column\n",
    "datasets_df['datetime'] = pd.to_datetime(datasets_df['created_utc'], unit='s')"
   ]
  },
  {
   "cell_type": "code",
   "execution_count": 32,
   "metadata": {},
   "outputs": [
    {
     "data": {
      "text/html": [
       "<div>\n",
       "<style scoped>\n",
       "    .dataframe tbody tr th:only-of-type {\n",
       "        vertical-align: middle;\n",
       "    }\n",
       "\n",
       "    .dataframe tbody tr th {\n",
       "        vertical-align: top;\n",
       "    }\n",
       "\n",
       "    .dataframe thead th {\n",
       "        text-align: right;\n",
       "    }\n",
       "</style>\n",
       "<table border=\"1\" class=\"dataframe\">\n",
       "  <thead>\n",
       "    <tr style=\"text-align: right;\">\n",
       "      <th></th>\n",
       "      <th>title</th>\n",
       "      <th>selftext</th>\n",
       "      <th>datetime</th>\n",
       "    </tr>\n",
       "  </thead>\n",
       "  <tbody>\n",
       "    <tr>\n",
       "      <th>0</th>\n",
       "      <td>What's the difference between dark matter and ...</td>\n",
       "      <td></td>\n",
       "      <td>2020-03-13 22:06:14</td>\n",
       "    </tr>\n",
       "    <tr>\n",
       "      <th>1</th>\n",
       "      <td>Intent</td>\n",
       "      <td>What fills the spaces between atoms</td>\n",
       "      <td>2020-03-13 21:36:11</td>\n",
       "    </tr>\n",
       "    <tr>\n",
       "      <th>2</th>\n",
       "      <td>Recommendation about astrophysics</td>\n",
       "      <td>Hey there, I am a student that wants to start ...</td>\n",
       "      <td>2020-03-13 21:13:44</td>\n",
       "    </tr>\n",
       "    <tr>\n",
       "      <th>3</th>\n",
       "      <td>Antibubbles! Water globules on water :) Can be...</td>\n",
       "      <td></td>\n",
       "      <td>2020-03-13 20:54:53</td>\n",
       "    </tr>\n",
       "    <tr>\n",
       "      <th>4</th>\n",
       "      <td>What are some cool physics experiments/tools t...</td>\n",
       "      <td>Hi! I know this isn't the usual kind of questi...</td>\n",
       "      <td>2020-03-13 20:39:00</td>\n",
       "    </tr>\n",
       "  </tbody>\n",
       "</table>\n",
       "</div>"
      ],
      "text/plain": [
       "                                               title  \\\n",
       "0  What's the difference between dark matter and ...   \n",
       "1                                             Intent   \n",
       "2                  Recommendation about astrophysics   \n",
       "3  Antibubbles! Water globules on water :) Can be...   \n",
       "4  What are some cool physics experiments/tools t...   \n",
       "\n",
       "                                            selftext            datetime  \n",
       "0                                                    2020-03-13 22:06:14  \n",
       "1                What fills the spaces between atoms 2020-03-13 21:36:11  \n",
       "2  Hey there, I am a student that wants to start ... 2020-03-13 21:13:44  \n",
       "3                                                    2020-03-13 20:54:53  \n",
       "4  Hi! I know this isn't the usual kind of questi... 2020-03-13 20:39:00  "
      ]
     },
     "execution_count": 32,
     "metadata": {},
     "output_type": "execute_result"
    }
   ],
   "source": [
    "datasets_df[['title', 'selftext', 'datetime']].head()"
   ]
  },
  {
   "cell_type": "code",
   "execution_count": 33,
   "metadata": {},
   "outputs": [],
   "source": [
    "# some students end up just combining their title/selftext columns\n",
    "datasets_df['merged'] = datasets_df['title'] + \" \" + datasets_df['selftext']"
   ]
  },
  {
   "cell_type": "code",
   "execution_count": 34,
   "metadata": {},
   "outputs": [
    {
     "data": {
      "text/plain": [
       "\"What's the difference between dark matter and the discarded idea of aether as a medium for light? How do we know dark matter is not aether? \""
      ]
     },
     "execution_count": 34,
     "metadata": {},
     "output_type": "execute_result"
    }
   ],
   "source": [
    "datasets_df['merged'][0]"
   ]
  },
  {
   "cell_type": "code",
   "execution_count": 35,
   "metadata": {},
   "outputs": [
    {
     "data": {
      "text/plain": [
       "24    1159\n",
       "4      534\n",
       "20     492\n",
       "11     455\n",
       "18     385\n",
       "Name: selftext, dtype: int64"
      ]
     },
     "execution_count": 35,
     "metadata": {},
     "output_type": "execute_result"
    }
   ],
   "source": [
    "# 5 longest posts\n",
    "datasets_df['selftext'].map(lambda x: len(x)).nlargest()"
   ]
  },
  {
   "cell_type": "code",
   "execution_count": 36,
   "metadata": {},
   "outputs": [
    {
     "data": {
      "image/png": "[encoded data removed]",
      "text/plain": [
       "<Figure size 432x288 with 1 Axes>"
      ]
     },
     "metadata": {
      "needs_background": "light"
     },
     "output_type": "display_data"
    }
   ],
   "source": [
    "# distribution of post length\n",
    "datasets_df['selftext'].map(lambda x: len(x)).plot(kind='hist');"
   ]
  },
  {
   "cell_type": "code",
   "execution_count": null,
   "metadata": {},
   "outputs": [],
   "source": []
  },
  {
   "cell_type": "code",
   "execution_count": null,
   "metadata": {},
   "outputs": [],
   "source": []
  },
  {
   "cell_type": "code",
   "execution_count": null,
   "metadata": {},
   "outputs": [],
   "source": []
  }
 ],
 "metadata": {
  "kernelspec": {
   "display_name": "Python 3",
   "language": "python",
   "name": "python3"
  },
  "language_info": {
   "codemirror_mode": {
    "name": "ipython",
    "version": 3
   },
   "file_extension": ".py",
   "mimetype": "text/x-python",
   "name": "python",
   "nbconvert_exporter": "python",
   "pygments_lexer": "ipython3",
   "version": "3.8.5"
  }
 },
 "nbformat": 4,
 "nbformat_minor": 4
}
