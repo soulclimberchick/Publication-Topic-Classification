{
 "cells": [
  {
   "cell_type": "markdown",
   "metadata": {},
   "source": [
    "# CATALOGIQUE\n",
    "### PUBLICATION TOPIC CLASSIFACTION\n",
    "#### We organize your stuff so you don't have to"
   ]
  },
  {
   "cell_type": "markdown",
   "metadata": {},
   "source": [
    "#### problem statement:\n",
    "Our client at Elsevier is looking for a better way to clasify their scientific articles. Elsevier helps researchers and healthcare professionals advance science and improve health outcomes for the benefit of society. (soruce: https://www.elsevier.com/about). With the large volume of scientific research articles flowing into the pipeline, we expertly classify and store your data for quick and efficient searching."
   ]
  },
  {
   "cell_type": "markdown",
   "metadata": {},
   "source": [
    "# EDA and Modeling on combined dataframes\n",
    "#### In this notebook, we will import our cleaned data and combine dataframes."
   ]
  },
  {
   "cell_type": "markdown",
   "metadata": {},
   "source": [
    "#### Imports"
   ]
  },
  {
   "cell_type": "code",
   "execution_count": 1,
   "metadata": {},
   "outputs": [],
   "source": [
    "import itertools\n",
    "import numpy as np\n",
    "import matplotlib.pyplot as plt\n",
    "from sklearn import metrics\n",
    "from nltk.tokenize import word_tokenize\n",
    "import pandas as pd\n",
    "from sklearn.ensemble import RandomForestClassifier\n",
    "from sklearn.feature_extraction.text import CountVectorizer, TfidfVectorizer\n",
    "from sklearn.feature_extraction import text\n",
    "from sklearn.linear_model import LogisticRegression, LinearRegression\n",
    "from sklearn.model_selection import train_test_split, cross_val_score, GridSearchCV\n",
    "from sklearn.metrics import accuracy_score, f1_score, precision_score, recall_score, confusion_matrix\n",
    "from sklearn.neighbors import KNeighborsClassifier\n",
    "from sklearn.naive_bayes import MultinomialNB\n",
    "from sklearn.pipeline import Pipeline\n",
    "\n",
    "import warnings\n",
    "warnings.filterwarnings('ignore')\n",
    "\n",
    "%matplotlib inline\n",
    "%config InlineBackend.figure_format='retina'"
   ]
  },
  {
   "cell_type": "markdown",
   "metadata": {},
   "source": [
    "#### Import clean datasets created in Cleaning notebook\n",
    "And inpsect head"
   ]
  },
  {
   "cell_type": "code",
   "execution_count": 2,
   "metadata": {
    "scrolled": true
   },
   "outputs": [
    {
     "data": {
      "text/html": [
       "<div>\n",
       "<style scoped>\n",
       "    .dataframe tbody tr th:only-of-type {\n",
       "        vertical-align: middle;\n",
       "    }\n",
       "\n",
       "    .dataframe tbody tr th {\n",
       "        vertical-align: top;\n",
       "    }\n",
       "\n",
       "    .dataframe thead th {\n",
       "        text-align: right;\n",
       "    }\n",
       "</style>\n",
       "<table border=\"1\" class=\"dataframe\">\n",
       "  <thead>\n",
       "    <tr style=\"text-align: right;\">\n",
       "      <th></th>\n",
       "      <th>title</th>\n",
       "      <th>class_label</th>\n",
       "    </tr>\n",
       "  </thead>\n",
       "  <tbody>\n",
       "    <tr>\n",
       "      <th>0</th>\n",
       "      <td>multiplex vaccine</td>\n",
       "      <td>0</td>\n",
       "    </tr>\n",
       "    <tr>\n",
       "      <th>1</th>\n",
       "      <td>be there a biology equivalent of the american ...</td>\n",
       "      <td>0</td>\n",
       "    </tr>\n",
       "    <tr>\n",
       "      <th>2</th>\n",
       "      <td>be in   grade ap biology and the online progr...</td>\n",
       "      <td>0</td>\n",
       "    </tr>\n",
       "    <tr>\n",
       "      <th>3</th>\n",
       "      <td>virus dna</td>\n",
       "      <td>0</td>\n",
       "    </tr>\n",
       "    <tr>\n",
       "      <th>4</th>\n",
       "      <td>help for exam</td>\n",
       "      <td>0</td>\n",
       "    </tr>\n",
       "  </tbody>\n",
       "</table>\n",
       "</div>"
      ],
      "text/plain": [
       "                                               title  class_label\n",
       "0                                  multiplex vaccine            0\n",
       "1  be there a biology equivalent of the american ...            0\n",
       "2   be in   grade ap biology and the online progr...            0\n",
       "3                                          virus dna            0\n",
       "4                                      help for exam            0"
      ]
     },
     "execution_count": 2,
     "metadata": {},
     "output_type": "execute_result"
    }
   ],
   "source": [
    "bio_df = pd.read_csv('datasets/bio_clean.csv')\n",
    "bio_df.head()"
   ]
  },
  {
   "cell_type": "code",
   "execution_count": 3,
   "metadata": {},
   "outputs": [
    {
     "data": {
      "text/html": [
       "<div>\n",
       "<style scoped>\n",
       "    .dataframe tbody tr th:only-of-type {\n",
       "        vertical-align: middle;\n",
       "    }\n",
       "\n",
       "    .dataframe tbody tr th {\n",
       "        vertical-align: top;\n",
       "    }\n",
       "\n",
       "    .dataframe thead th {\n",
       "        text-align: right;\n",
       "    }\n",
       "</style>\n",
       "<table border=\"1\" class=\"dataframe\">\n",
       "  <thead>\n",
       "    <tr style=\"text-align: right;\">\n",
       "      <th></th>\n",
       "      <th>title</th>\n",
       "      <th>class_label</th>\n",
       "    </tr>\n",
       "  </thead>\n",
       "  <tbody>\n",
       "    <tr>\n",
       "      <th>0</th>\n",
       "      <td>re all genius</td>\n",
       "      <td>1</td>\n",
       "    </tr>\n",
       "    <tr>\n",
       "      <th>1</th>\n",
       "      <td>what s the space fill with</td>\n",
       "      <td>1</td>\n",
       "    </tr>\n",
       "    <tr>\n",
       "      <th>2</th>\n",
       "      <td>restructure of physics undergrad a dialogue</td>\n",
       "      <td>1</td>\n",
       "    </tr>\n",
       "    <tr>\n",
       "      <th>3</th>\n",
       "      <td>help please</td>\n",
       "      <td>1</td>\n",
       "    </tr>\n",
       "    <tr>\n",
       "      <th>4</th>\n",
       "      <td>think of get a phd in quantum mechanic</td>\n",
       "      <td>1</td>\n",
       "    </tr>\n",
       "  </tbody>\n",
       "</table>\n",
       "</div>"
      ],
      "text/plain": [
       "                                         title  class_label\n",
       "0                                re all genius            1\n",
       "1                   what s the space fill with            1\n",
       "2  restructure of physics undergrad a dialogue            1\n",
       "3                                  help please            1\n",
       "4       think of get a phd in quantum mechanic            1"
      ]
     },
     "execution_count": 3,
     "metadata": {},
     "output_type": "execute_result"
    }
   ],
   "source": [
    "phys_df = pd.read_csv('datasets/phys_clean.csv')\n",
    "phys_df.head()"
   ]
  },
  {
   "cell_type": "markdown",
   "metadata": {},
   "source": [
    "#### Concatenate biology and physics subreddit data frames\n",
    "Inspect"
   ]
  },
  {
   "cell_type": "code",
   "execution_count": 4,
   "metadata": {},
   "outputs": [
    {
     "data": {
      "text/html": [
       "<div>\n",
       "<style scoped>\n",
       "    .dataframe tbody tr th:only-of-type {\n",
       "        vertical-align: middle;\n",
       "    }\n",
       "\n",
       "    .dataframe tbody tr th {\n",
       "        vertical-align: top;\n",
       "    }\n",
       "\n",
       "    .dataframe thead th {\n",
       "        text-align: right;\n",
       "    }\n",
       "</style>\n",
       "<table border=\"1\" class=\"dataframe\">\n",
       "  <thead>\n",
       "    <tr style=\"text-align: right;\">\n",
       "      <th></th>\n",
       "      <th>title</th>\n",
       "      <th>class_label</th>\n",
       "    </tr>\n",
       "  </thead>\n",
       "  <tbody>\n",
       "    <tr>\n",
       "      <th>0</th>\n",
       "      <td>multiplex vaccine</td>\n",
       "      <td>0</td>\n",
       "    </tr>\n",
       "    <tr>\n",
       "      <th>1</th>\n",
       "      <td>be there a biology equivalent of the american ...</td>\n",
       "      <td>0</td>\n",
       "    </tr>\n",
       "    <tr>\n",
       "      <th>2</th>\n",
       "      <td>be in   grade ap biology and the online progr...</td>\n",
       "      <td>0</td>\n",
       "    </tr>\n",
       "    <tr>\n",
       "      <th>3</th>\n",
       "      <td>virus dna</td>\n",
       "      <td>0</td>\n",
       "    </tr>\n",
       "    <tr>\n",
       "      <th>4</th>\n",
       "      <td>help for exam</td>\n",
       "      <td>0</td>\n",
       "    </tr>\n",
       "    <tr>\n",
       "      <th>...</th>\n",
       "      <td>...</td>\n",
       "      <td>...</td>\n",
       "    </tr>\n",
       "    <tr>\n",
       "      <th>3003</th>\n",
       "      <td>how important be program for physics</td>\n",
       "      <td>1</td>\n",
       "    </tr>\n",
       "    <tr>\n",
       "      <th>3004</th>\n",
       "      <td>what be a follow up to stephen hawking a brief...</td>\n",
       "      <td>1</td>\n",
       "    </tr>\n",
       "    <tr>\n",
       "      <th>3005</th>\n",
       "      <td>parallel universe</td>\n",
       "      <td>1</td>\n",
       "    </tr>\n",
       "    <tr>\n",
       "      <th>3006</th>\n",
       "      <td>what do apply physicist actually do</td>\n",
       "      <td>1</td>\n",
       "    </tr>\n",
       "    <tr>\n",
       "      <th>3007</th>\n",
       "      <td>would a photon clock wind down</td>\n",
       "      <td>1</td>\n",
       "    </tr>\n",
       "  </tbody>\n",
       "</table>\n",
       "<p>6055 rows × 2 columns</p>\n",
       "</div>"
      ],
      "text/plain": [
       "                                                  title  class_label\n",
       "0                                     multiplex vaccine            0\n",
       "1     be there a biology equivalent of the american ...            0\n",
       "2      be in   grade ap biology and the online progr...            0\n",
       "3                                             virus dna            0\n",
       "4                                         help for exam            0\n",
       "...                                                 ...          ...\n",
       "3003               how important be program for physics            1\n",
       "3004  what be a follow up to stephen hawking a brief...            1\n",
       "3005                                  parallel universe            1\n",
       "3006                what do apply physicist actually do            1\n",
       "3007                     would a photon clock wind down            1\n",
       "\n",
       "[6055 rows x 2 columns]"
      ]
     },
     "execution_count": 4,
     "metadata": {},
     "output_type": "execute_result"
    }
   ],
   "source": [
    "sci_df = pd.concat([bio_df, phys_df])\n",
    "sci_df"
   ]
  },
  {
   "cell_type": "markdown",
   "metadata": {},
   "source": [
    "#### Check for balanced classes"
   ]
  },
  {
   "cell_type": "code",
   "execution_count": 5,
   "metadata": {},
   "outputs": [
    {
     "data": {
      "text/plain": [
       "0    0.50322\n",
       "1    0.49678\n",
       "Name: class_label, dtype: float64"
      ]
     },
     "execution_count": 5,
     "metadata": {},
     "output_type": "execute_result"
    }
   ],
   "source": [
    "sci_df['class_label'].value_counts(normalize=True)"
   ]
  },
  {
   "cell_type": "markdown",
   "metadata": {},
   "source": [
    "#### Set X and y values. Train Test Split\n",
    "\n",
    "Set the target as the `'class_label'` column which labels which subreddit the content is from  \n",
    "Added `.values.astype('str')` because they were not the right format for CountVectorizer"
   ]
  },
  {
   "cell_type": "code",
   "execution_count": 6,
   "metadata": {},
   "outputs": [],
   "source": [
    "X = sci_df['title'].values.astype('str')\n",
    "y = sci_df['class_label'].values.astype('str')\n",
    "\n",
    "X_train, X_test, y_train, y_test = train_test_split(X, y, test_size=0.25, stratify=y, random_state=42)"
   ]
  },
  {
   "cell_type": "markdown",
   "metadata": {},
   "source": [
    "#### Add custom stop words to English set"
   ]
  },
  {
   "cell_type": "code",
   "execution_count": 7,
   "metadata": {},
   "outputs": [],
   "source": [
    "my_stop_words = text.ENGLISH_STOP_WORDS.union(['biology', 'physics', 'question','help', 'need', \n",
    "                                               'like', 'look', 'use', 'career', 'work', 'vs', 'know', \n",
    "                                               'book', 'science', 'happen', 'job', 'advice', 'school', \n",
    "                                               'good', 'just', 'thing', 'way', 'idea', 'long', 'high', \n",
    "                                               'student', 'start', 'different', 'problem', 'study', \n",
    "                                               'learn', 'textbook', 'understand', 'research', \n",
    "                                               'possible', 'want', 'make', 'biologist', 'physicist',\n",
    "                                              'really', 'master', 'degree'])"
   ]
  },
  {
   "cell_type": "markdown",
   "metadata": {},
   "source": [
    "#### Null Model"
   ]
  },
  {
   "cell_type": "markdown",
   "metadata": {},
   "source": [
    "Is about 50% since we are using well balanced binary classes."
   ]
  },
  {
   "cell_type": "markdown",
   "metadata": {},
   "source": [
    "#### Instatiate Count Vectorizer and Tfidf Vectorizers for NLP"
   ]
  },
  {
   "cell_type": "code",
   "execution_count": 8,
   "metadata": {},
   "outputs": [],
   "source": [
    "cvec = CountVectorizer(max_features=5_000, stop_words=my_stop_words, ngram_range=(1,2))\n",
    "tvec = TfidfVectorizer(max_features=5_000, stop_words=my_stop_words, ngram_range=(1,2))"
   ]
  },
  {
   "cell_type": "code",
   "execution_count": 9,
   "metadata": {},
   "outputs": [],
   "source": [
    "def get_metrics(y_test, y_pred): \n",
    "    \n",
    "    precision = precision_score(y_test, y_pred, pos_label=None,\n",
    "                                    average='weighted')             \n",
    "    recall = recall_score(y_test, y_pred, pos_label=None,\n",
    "                              average='weighted')\n",
    "    f1 = metrics.f1_score(y_test, y_pred, average='macro')  \n",
    "    accuracy = accuracy_score(y_test, y_pred)\n",
    "    return accuracy, precision, recall, f1"
   ]
  },
  {
   "cell_type": "markdown",
   "metadata": {},
   "source": [
    "#### Fit and Transform training and testing data for both models"
   ]
  },
  {
   "cell_type": "code",
   "execution_count": 10,
   "metadata": {},
   "outputs": [],
   "source": [
    "#Count Vectorizer\n",
    "X_train_cv = cvec.fit_transform(X_train)\n",
    "X_test_cv = cvec.transform(X_test)\n",
    "\n",
    "#Tfidf Vectorizer\n",
    "X_train_tv = tvec.fit_transform(X_train)\n",
    "X_test_tv = tvec.transform(X_test)"
   ]
  },
  {
   "cell_type": "markdown",
   "metadata": {},
   "source": [
    "#### Count Vectorizer"
   ]
  },
  {
   "cell_type": "code",
   "execution_count": 11,
   "metadata": {},
   "outputs": [
    {
     "name": "stdout",
     "output_type": "stream",
     "text": [
      "accuracy = 0.792, precision = 0.794, recall = 0.792, f1 = 0.791\n"
     ]
    }
   ],
   "source": [
    "clf = MultinomialNB(alpha=.01)\n",
    "clf.fit(X_train_cv, y_train)\n",
    "y_test_cv = cvec.transform(X_test)\n",
    "\n",
    "y_pred_cv = clf.predict(y_test_cv)\n",
    "\n",
    "\n",
    "accuracy, precision, recall, f1 = get_metrics(y_test, y_pred_cv)\n",
    "print(\"accuracy = %.3f, precision = %.3f, recall = %.3f, f1 = %.3f\" % (accuracy, precision, recall, f1))"
   ]
  },
  {
   "cell_type": "markdown",
   "metadata": {},
   "source": [
    "#### Tfidf Vectorizer"
   ]
  },
  {
   "cell_type": "code",
   "execution_count": 12,
   "metadata": {},
   "outputs": [
    {
     "name": "stdout",
     "output_type": "stream",
     "text": [
      "accuracy = 0.788, precision = 0.791, recall = 0.788, f1 = 0.787\n"
     ]
    }
   ],
   "source": [
    "clf = MultinomialNB(alpha=.01)\n",
    "clf.fit(X_train_tv, y_train)\n",
    "y_test_tv = cvec.transform(X_test)\n",
    "y_pred_tv = clf.predict(y_test_tv)\n",
    "\n",
    "accuracy, precision, recall, f1 = get_metrics(y_test, y_pred_tv)\n",
    "print(\"accuracy = %.3f, precision = %.3f, recall = %.3f, f1 = %.3f\" % (accuracy, precision, recall, f1))"
   ]
  },
  {
   "cell_type": "markdown",
   "metadata": {},
   "source": [
    "#### Store the vectorized data in a dataframe\n",
    "Inspect Data"
   ]
  },
  {
   "cell_type": "code",
   "execution_count": 13,
   "metadata": {},
   "outputs": [
    {
     "data": {
      "text/html": [
       "<div>\n",
       "<style scoped>\n",
       "    .dataframe tbody tr th:only-of-type {\n",
       "        vertical-align: middle;\n",
       "    }\n",
       "\n",
       "    .dataframe tbody tr th {\n",
       "        vertical-align: top;\n",
       "    }\n",
       "\n",
       "    .dataframe thead th {\n",
       "        text-align: right;\n",
       "    }\n",
       "</style>\n",
       "<table border=\"1\" class=\"dataframe\">\n",
       "  <thead>\n",
       "    <tr style=\"text-align: right;\">\n",
       "      <th></th>\n",
       "      <th>ability</th>\n",
       "      <th>abiotic</th>\n",
       "      <th>able</th>\n",
       "      <th>able live</th>\n",
       "      <th>abroad</th>\n",
       "      <th>absolute</th>\n",
       "      <th>absolute zero</th>\n",
       "      <th>absorb</th>\n",
       "      <th>ac</th>\n",
       "      <th>academia</th>\n",
       "      <th>...</th>\n",
       "      <th>youtube</th>\n",
       "      <th>youtube channel</th>\n",
       "      <th>youtube video</th>\n",
       "      <th>zero</th>\n",
       "      <th>zinc</th>\n",
       "      <th>zone</th>\n",
       "      <th>zoologist</th>\n",
       "      <th>zoology</th>\n",
       "      <th>zoology ecology</th>\n",
       "      <th>zoom</th>\n",
       "    </tr>\n",
       "  </thead>\n",
       "  <tbody>\n",
       "    <tr>\n",
       "      <th>0</th>\n",
       "      <td>0</td>\n",
       "      <td>0</td>\n",
       "      <td>0</td>\n",
       "      <td>0</td>\n",
       "      <td>0</td>\n",
       "      <td>0</td>\n",
       "      <td>0</td>\n",
       "      <td>0</td>\n",
       "      <td>0</td>\n",
       "      <td>0</td>\n",
       "      <td>...</td>\n",
       "      <td>0</td>\n",
       "      <td>0</td>\n",
       "      <td>0</td>\n",
       "      <td>0</td>\n",
       "      <td>0</td>\n",
       "      <td>0</td>\n",
       "      <td>0</td>\n",
       "      <td>0</td>\n",
       "      <td>0</td>\n",
       "      <td>0</td>\n",
       "    </tr>\n",
       "    <tr>\n",
       "      <th>1</th>\n",
       "      <td>0</td>\n",
       "      <td>0</td>\n",
       "      <td>0</td>\n",
       "      <td>0</td>\n",
       "      <td>0</td>\n",
       "      <td>0</td>\n",
       "      <td>0</td>\n",
       "      <td>0</td>\n",
       "      <td>0</td>\n",
       "      <td>0</td>\n",
       "      <td>...</td>\n",
       "      <td>0</td>\n",
       "      <td>0</td>\n",
       "      <td>0</td>\n",
       "      <td>0</td>\n",
       "      <td>0</td>\n",
       "      <td>0</td>\n",
       "      <td>0</td>\n",
       "      <td>0</td>\n",
       "      <td>0</td>\n",
       "      <td>0</td>\n",
       "    </tr>\n",
       "    <tr>\n",
       "      <th>2</th>\n",
       "      <td>0</td>\n",
       "      <td>0</td>\n",
       "      <td>0</td>\n",
       "      <td>0</td>\n",
       "      <td>0</td>\n",
       "      <td>0</td>\n",
       "      <td>0</td>\n",
       "      <td>0</td>\n",
       "      <td>0</td>\n",
       "      <td>0</td>\n",
       "      <td>...</td>\n",
       "      <td>0</td>\n",
       "      <td>0</td>\n",
       "      <td>0</td>\n",
       "      <td>0</td>\n",
       "      <td>0</td>\n",
       "      <td>0</td>\n",
       "      <td>0</td>\n",
       "      <td>0</td>\n",
       "      <td>0</td>\n",
       "      <td>0</td>\n",
       "    </tr>\n",
       "    <tr>\n",
       "      <th>3</th>\n",
       "      <td>0</td>\n",
       "      <td>0</td>\n",
       "      <td>0</td>\n",
       "      <td>0</td>\n",
       "      <td>0</td>\n",
       "      <td>0</td>\n",
       "      <td>0</td>\n",
       "      <td>0</td>\n",
       "      <td>0</td>\n",
       "      <td>0</td>\n",
       "      <td>...</td>\n",
       "      <td>0</td>\n",
       "      <td>0</td>\n",
       "      <td>0</td>\n",
       "      <td>0</td>\n",
       "      <td>0</td>\n",
       "      <td>0</td>\n",
       "      <td>0</td>\n",
       "      <td>0</td>\n",
       "      <td>0</td>\n",
       "      <td>0</td>\n",
       "    </tr>\n",
       "    <tr>\n",
       "      <th>4</th>\n",
       "      <td>0</td>\n",
       "      <td>0</td>\n",
       "      <td>0</td>\n",
       "      <td>0</td>\n",
       "      <td>0</td>\n",
       "      <td>0</td>\n",
       "      <td>0</td>\n",
       "      <td>0</td>\n",
       "      <td>0</td>\n",
       "      <td>0</td>\n",
       "      <td>...</td>\n",
       "      <td>0</td>\n",
       "      <td>0</td>\n",
       "      <td>0</td>\n",
       "      <td>0</td>\n",
       "      <td>0</td>\n",
       "      <td>0</td>\n",
       "      <td>0</td>\n",
       "      <td>0</td>\n",
       "      <td>0</td>\n",
       "      <td>0</td>\n",
       "    </tr>\n",
       "  </tbody>\n",
       "</table>\n",
       "<p>5 rows × 5000 columns</p>\n",
       "</div>"
      ],
      "text/plain": [
       "   ability  abiotic  able  able live  abroad  absolute  absolute zero  absorb  \\\n",
       "0        0        0     0          0       0         0              0       0   \n",
       "1        0        0     0          0       0         0              0       0   \n",
       "2        0        0     0          0       0         0              0       0   \n",
       "3        0        0     0          0       0         0              0       0   \n",
       "4        0        0     0          0       0         0              0       0   \n",
       "\n",
       "   ac  academia  ...  youtube  youtube channel  youtube video  zero  zinc  \\\n",
       "0   0         0  ...        0                0              0     0     0   \n",
       "1   0         0  ...        0                0              0     0     0   \n",
       "2   0         0  ...        0                0              0     0     0   \n",
       "3   0         0  ...        0                0              0     0     0   \n",
       "4   0         0  ...        0                0              0     0     0   \n",
       "\n",
       "   zone  zoologist  zoology  zoology ecology  zoom  \n",
       "0     0          0        0                0     0  \n",
       "1     0          0        0                0     0  \n",
       "2     0          0        0                0     0  \n",
       "3     0          0        0                0     0  \n",
       "4     0          0        0                0     0  \n",
       "\n",
       "[5 rows x 5000 columns]"
      ]
     },
     "execution_count": 13,
     "metadata": {},
     "output_type": "execute_result"
    }
   ],
   "source": [
    "X_train_df = pd.DataFrame(X_train_cv.toarray(), columns=cvec.get_feature_names())\n",
    "X_train_df.head()"
   ]
  },
  {
   "cell_type": "markdown",
   "metadata": {},
   "source": [
    "#### Instatiate and fit Logistic Regression Model\n",
    "Using Count Vectorized Data\n",
    "Evaluate using cross_val_score\n",
    "C regularization set to 0.4\n",
    "Best cv value = ~7. Tested 5, 7, 10, 15 "
   ]
  },
  {
   "cell_type": "code",
   "execution_count": 14,
   "metadata": {},
   "outputs": [
    {
     "name": "stdout",
     "output_type": "stream",
     "text": [
      "Training Score: 0.7927764326069411\n",
      "Test Score: 0.7391193036354327\n"
     ]
    }
   ],
   "source": [
    "lr = LogisticRegression(C=.4)\n",
    "lr.fit(X_train_cv, y_train)\n",
    "y_pred = lr.predict(y_test_cv)\n",
    "\n",
    "print(f'Training Score: {cross_val_score(lr, X_train_cv, y_train, cv=7).mean()}')\n",
    "print(f'Test Score: {cross_val_score(lr, X_test_cv, y_test, cv=7).mean()}')"
   ]
  },
  {
   "cell_type": "code",
   "execution_count": 15,
   "metadata": {},
   "outputs": [
    {
     "data": {
      "text/plain": [
       "-1.1510618740936884"
      ]
     },
     "execution_count": 15,
     "metadata": {},
     "output_type": "execute_result"
    }
   ],
   "source": [
    "lir = LinearRegression().fit(X_train_cv, y_train)\n",
    "lir.score(X_test_cv, y_pred)"
   ]
  },
  {
   "cell_type": "markdown",
   "metadata": {},
   "source": [
    "#### Create a list of words being analyzed in Phys data set with their corresponding coefficients from logistic regression\n",
    "Create a table with top 20 coefs  \n",
    "Plot coefs \n",
    "Plots are optimized for presentation which makes them hard to read here. Can be converted back to black text etc. "
   ]
  },
  {
   "cell_type": "code",
   "execution_count": 16,
   "metadata": {
    "scrolled": true
   },
   "outputs": [
    {
     "data": {
      "image/png": "[encoded data removed]",
      "text/plain": [
       "<Figure size 720x576 with 1 Axes>"
      ]
     },
     "metadata": {
      "image/png": {
       "height": 567,
       "width": 712
      },
      "needs_background": "dark"
     },
     "output_type": "display_data"
    }
   ],
   "source": [
    "log_coefs = pd.DataFrame(list(zip(X_train_df, np.exp(lr.coef_[0]))))\n",
    "\n",
    "table = log_coefs.sort_values(1, ascending=False).head(20)\n",
    "\n",
    "plt.figure(figsize=(10,8))\n",
    "# Grab physics data\n",
    "plt.barh(table[0], table[1], color='white')\n",
    "plt.xlabel('Weight', fontsize=20, color='aquamarine')\n",
    "plt.xticks(fontsize=18, color='aquamarine' )\n",
    "plt.ylim(plt.ylim()[::-1])\n",
    "plt.yticks(fontsize=16, color='aquamarine')\n",
    "plt.title(r\"$\\bf{Physics:\\ Top\\ Predictive\\ Words}$\", fontsize=24, color='white', pad=20)\n",
    "plt.tick_params(color='aquamarine');\n",
    "plt.savefig('Visuals/physics_word_importance.png', dpi=360, transparent=True)\n",
    "plt.tight_layout();"
   ]
  },
  {
   "cell_type": "markdown",
   "metadata": {},
   "source": [
    "#### Create a list of words being analyzed in Bio data set with their corresponding coefficients from logistic regression\n",
    "Create a table with top 20 coefs  \n",
    "Plot coefs   \n",
    "\n",
    "Plots are optimized for presentation which makes them hard to read here. Can be converted back to black text etc. "
   ]
  },
  {
   "cell_type": "code",
   "execution_count": 17,
   "metadata": {},
   "outputs": [
    {
     "data": {
      "image/png": "[encoded data removed]",
      "text/plain": [
       "<Figure size 720x576 with 1 Axes>"
      ]
     },
     "metadata": {
      "image/png": {
       "height": 568,
       "width": 712
      },
      "needs_background": "dark"
     },
     "output_type": "display_data"
    }
   ],
   "source": [
    "# table = log_coefs.sort_values(1).head(20)\n",
    "\n",
    "# plt.figure(figsize=(6,8))\n",
    "# # Grab biology data\n",
    "# plt.barh(table[0], (1 - table[1]), color='mediumturquoise')\n",
    "# plt.ylim(plt.ylim()[::-1])\n",
    "# plt.yticks(fontsize=16)\n",
    "# plt.xlabel('Weight', fontsize=20)\n",
    "# plt.xticks(fontsize=18)\n",
    "# plt.title('Biology: Top Predictive Words', fontsize=26);\n",
    "# log_coefs = pd.DataFrame(list(zip(X_train_df, np.exp(lr.coef_[0]))))\n",
    "\n",
    "table = log_coefs.sort_values(1).head(20)\n",
    "plt.figure(figsize=(10,8))\n",
    "# Grab physics data\n",
    "plt.barh(table[0], (1 - table[1]), color='white')\n",
    "plt.xlabel('Weight', fontsize=20, color='aquamarine')\n",
    "plt.xticks(fontsize=14, color='aquamarine' )\n",
    "plt.ylim(plt.ylim()[::-1])\n",
    "plt.yticks(fontsize=16, color='aquamarine')\n",
    "plt.title(r\"$\\bf{Biology:\\ Top\\ Predictive\\ Words}$\", fontsize=24, color='White', pad=20)\n",
    "plt.tick_params(color='aquamarine');\n",
    "plt.savefig('Visuals/biology_word_importance.png', dpi=360, transparent=True)\n",
    "plt.tight_layout();"
   ]
  },
  {
   "cell_type": "markdown",
   "metadata": {},
   "source": [
    "# Grid Searching\n",
    "## CountVectorizer"
   ]
  },
  {
   "cell_type": "markdown",
   "metadata": {},
   "source": [
    "#### Instatniate a pipeline for model testing\n",
    "* count vectorizer with the optimal parameters from above\n",
    "* random forest classifier\n",
    "\n",
    "\n"
   ]
  },
  {
   "cell_type": "code",
   "execution_count": 18,
   "metadata": {},
   "outputs": [],
   "source": [
    "pipe = Pipeline([\n",
    "    ('cvec', CountVectorizer(max_features=5_000, stop_words=my_stop_words, ngram_range=(1,2))),\n",
    "    ('rf', RandomForestClassifier())\n",
    "])"
   ]
  },
  {
   "cell_type": "markdown",
   "metadata": {},
   "source": [
    "#### Setup parameters for Grid Searching for CountVectorizer RandomForestClassifier\n",
    "n_jobs are set for my machine but will be commented out in favor of settings better for the average machine"
   ]
  },
  {
   "cell_type": "code",
   "execution_count": 19,
   "metadata": {},
   "outputs": [],
   "source": [
    "pipe_params = {\n",
    "    'rf__min_samples_split': [14, 15, 16],\n",
    "    'rf__n_jobs': [30, 34, 40] # commented out as this may not apply to other machine specs running this\n",
    "#     'rf__n_jobs': [10, 12, 16]\n",
    "}"
   ]
  },
  {
   "cell_type": "markdown",
   "metadata": {},
   "source": [
    "#### Instantiate Grid Search\n",
    "Fit data and print scores"
   ]
  },
  {
   "cell_type": "code",
   "execution_count": 20,
   "metadata": {},
   "outputs": [
    {
     "name": "stdout",
     "output_type": "stream",
     "text": [
      "CPU times: user 7 µs, sys: 5 µs, total: 12 µs\n",
      "Wall time: 23.4 µs\n",
      "0.7643590193025221\n",
      "{'rf__min_samples_split': 15, 'rf__n_jobs': 30}\n"
     ]
    }
   ],
   "source": [
    "%time\n",
    "gs = GridSearchCV(pipe, param_grid=pipe_params, cv=7)\n",
    "gs.fit(X_train, y_train)\n",
    "\n",
    "print(gs.best_score_)\n",
    "print(gs.best_params_)"
   ]
  },
  {
   "cell_type": "markdown",
   "metadata": {},
   "source": []
  },
  {
   "cell_type": "markdown",
   "metadata": {},
   "source": [
    "## TfidfVectorizer"
   ]
  },
  {
   "cell_type": "markdown",
   "metadata": {},
   "source": [
    "#### Instatiate pipeline for TfidfVectorizer  and RandomForestClassifier"
   ]
  },
  {
   "cell_type": "code",
   "execution_count": 21,
   "metadata": {},
   "outputs": [],
   "source": [
    "pipe = Pipeline([\n",
    "    ('tvec', TfidfVectorizer(max_features=5_000, stop_words=my_stop_words, ngram_range=(1,2))),\n",
    "    ('rf', RandomForestClassifier())\n",
    "])"
   ]
  },
  {
   "cell_type": "markdown",
   "metadata": {},
   "source": [
    "#### Setup parameters for Grid Searching TfidfVectorizer and RandomForestClassifier\n",
    "n_jobs are set for my machine but will be commented out in favor of settings better for the average machine"
   ]
  },
  {
   "cell_type": "code",
   "execution_count": 22,
   "metadata": {},
   "outputs": [],
   "source": [
    "# setting up a parameter grid to search over\n",
    "pipe_params = {\n",
    "    # different parameter combinations to search over\n",
    "    'rf__min_samples_split': [11, 12, 13, 14, 15],\n",
    "    'rf__n_jobs': [30, 34, 40] # commented out as this only applies for my machine specs\n",
    "#     'rf__n_jobs': [10, 12, 16]\n",
    "}"
   ]
  },
  {
   "cell_type": "markdown",
   "metadata": {},
   "source": [
    "#### Instantiate Grid Search\n",
    "Fit data and print scores"
   ]
  },
  {
   "cell_type": "code",
   "execution_count": 23,
   "metadata": {},
   "outputs": [
    {
     "name": "stdout",
     "output_type": "stream",
     "text": [
      "CPU times: user 5 µs, sys: 2 µs, total: 7 µs\n",
      "Wall time: 12.6 µs\n",
      "0.7683248954435395\n"
     ]
    },
    {
     "data": {
      "text/plain": [
       "{'rf__min_samples_split': 12, 'rf__n_jobs': 30}"
      ]
     },
     "execution_count": 23,
     "metadata": {},
     "output_type": "execute_result"
    }
   ],
   "source": [
    "%time\n",
    "gs = GridSearchCV(pipe, param_grid=pipe_params, cv=7)\n",
    "gs.fit(X_train, y_train)\n",
    "\n",
    "print(gs.best_score_)\n",
    "gs.best_params_"
   ]
  },
  {
   "cell_type": "markdown",
   "metadata": {},
   "source": [
    "#### Instantiate Random Forect Classifier\n",
    "Fit model\n",
    "Use optimal parameters from grid search\n",
    "\n",
    "Print scores"
   ]
  },
  {
   "cell_type": "code",
   "execution_count": 24,
   "metadata": {},
   "outputs": [
    {
     "name": "stdout",
     "output_type": "stream",
     "text": [
      "Training Score: 0.7672310182560105\n",
      "Test Score: 0.7186217297226412\n"
     ]
    }
   ],
   "source": [
    "rf = RandomForestClassifier(min_samples_split=13, n_jobs=-1)\n",
    "rf.fit(X_train_cv, y_train)\n",
    "\n",
    "print(f'Training Score: {cross_val_score(rf, X_train_cv, y_train, cv=5).mean()}')\n",
    "print(f'Test Score: {cross_val_score(rf, X_test_cv, y_test, cv=5).mean()}')"
   ]
  },
  {
   "cell_type": "markdown",
   "metadata": {},
   "source": [
    "## KNN"
   ]
  },
  {
   "cell_type": "markdown",
   "metadata": {},
   "source": [
    "#### Instatiate pipeline for CountVectorizer  and KNeighborsClassifier"
   ]
  },
  {
   "cell_type": "code",
   "execution_count": 25,
   "metadata": {},
   "outputs": [],
   "source": [
    "pipe = Pipeline([\n",
    "    ('cvec', CountVectorizer(max_features=5_000, stop_words=my_stop_words, ngram_range=(1,2))),\n",
    "    ('knn', KNeighborsClassifier())\n",
    "])"
   ]
  },
  {
   "cell_type": "markdown",
   "metadata": {},
   "source": [
    "#### Setup parameters for Grid Searching CountVectorizer and KNeighborsClassifier"
   ]
  },
  {
   "cell_type": "code",
   "execution_count": 26,
   "metadata": {},
   "outputs": [],
   "source": [
    "pipe_params = {\n",
    "    'knn__n_neighbors': [1, 3, 5, 7, 9, 11, 13]\n",
    "}"
   ]
  },
  {
   "cell_type": "markdown",
   "metadata": {},
   "source": [
    "#### Instantiate Grid Search\n",
    "Fit data and print scores"
   ]
  },
  {
   "cell_type": "code",
   "execution_count": 27,
   "metadata": {},
   "outputs": [
    {
     "name": "stdout",
     "output_type": "stream",
     "text": [
      "CPU times: user 5 µs, sys: 1 µs, total: 6 µs\n",
      "Wall time: 11 µs\n",
      "0.6529319968585506\n"
     ]
    },
    {
     "data": {
      "text/plain": [
       "{'knn__n_neighbors': 1}"
      ]
     },
     "execution_count": 27,
     "metadata": {},
     "output_type": "execute_result"
    }
   ],
   "source": [
    "%time\n",
    "gs = GridSearchCV(pipe, param_grid=pipe_params, cv=7)\n",
    "gs.fit(X_train, y_train)\n",
    "print(gs.best_score_)\n",
    "gs.best_params_"
   ]
  },
  {
   "cell_type": "markdown",
   "metadata": {},
   "source": [
    "#### Instatiate pipeline for TfidfVectorizer  and KNeighborsClassifier\n",
    "Set Params"
   ]
  },
  {
   "cell_type": "code",
   "execution_count": 28,
   "metadata": {},
   "outputs": [],
   "source": [
    "pipe = Pipeline([\n",
    "    ('tvec', TfidfVectorizer(max_features=5_000, stop_words=my_stop_words, ngram_range=(1,2))),\n",
    "    ('knn', KNeighborsClassifier())\n",
    "])\n",
    "\n",
    "pipe_params = {\n",
    "    'knn__n_neighbors': [2, 3, 5, 7, 9, 11, 13]\n",
    "}"
   ]
  },
  {
   "cell_type": "markdown",
   "metadata": {},
   "source": [
    "#### Instantiate Grid Search\n",
    "Fit data and print scores"
   ]
  },
  {
   "cell_type": "code",
   "execution_count": 29,
   "metadata": {},
   "outputs": [
    {
     "name": "stdout",
     "output_type": "stream",
     "text": [
      "0.6511747825307148\n"
     ]
    },
    {
     "data": {
      "text/plain": [
       "{'knn__n_neighbors': 2}"
      ]
     },
     "execution_count": 29,
     "metadata": {},
     "output_type": "execute_result"
    }
   ],
   "source": [
    "gs = GridSearchCV(pipe, param_grid=pipe_params, cv=7)\n",
    "gs.fit(X_train, y_train)\n",
    "print(gs.best_score_)\n",
    "gs.best_params_"
   ]
  },
  {
   "cell_type": "markdown",
   "metadata": {},
   "source": [
    "#### Run KNN Model with optemized params"
   ]
  },
  {
   "cell_type": "code",
   "execution_count": 30,
   "metadata": {
    "scrolled": true
   },
   "outputs": [
    {
     "name": "stdout",
     "output_type": "stream",
     "text": [
      "Training Score: 0.6606405730699516\n",
      "Test Score: 0.6361245214931851\n"
     ]
    }
   ],
   "source": [
    "knn = KNeighborsClassifier(n_neighbors=1)\n",
    "knn.fit(X_train_cv, y_train)\n",
    "\n",
    "print(f'Training Score: {cross_val_score(knn, X_train_cv, y_train, cv=7).mean()}')\n",
    "print(f'Test Score: {cross_val_score(knn, X_test_cv, y_test, cv=7).mean()}')"
   ]
  },
  {
   "cell_type": "markdown",
   "metadata": {},
   "source": [
    "# Confusion Matrix"
   ]
  },
  {
   "cell_type": "code",
   "execution_count": 31,
   "metadata": {},
   "outputs": [],
   "source": [
    "from matplotlib import cm\n",
    "def plot_confusion_matrix(cm, classes,\n",
    "                          normalize=False,\n",
    "                          title='Confusion matrix',\n",
    "                          cmap=plt.cm.BuGn):\n",
    "    if normalize:\n",
    "        cm = cm.astype('float') / cm.sum(axis=1)[:, np.newaxis]\n",
    "    plt.imshow(cm, interpolation='nearest', cmap=cmap)\n",
    "    plt.title(title, fontsize=30, color='white', pad=20)\n",
    "    color_bar = plt.colorbar(fraction=0.046, pad=0.04)\n",
    "    plt.setp(plt.getp(color_bar.ax.axes, 'yticklabels'), color='aquamarine')\n",
    "    color_bar.ax.yaxis.set_tick_params(color='aquamarine')\n",
    "    tick_marks = np.arange(len(classes))\n",
    "    plt.xticks(tick_marks, classes, fontsize=20, color='aquamarine')\n",
    "    plt.yticks(tick_marks, classes, fontsize=20, color='aquamarine')\n",
    "    \n",
    "    fmt = '.2f' if normalize else 'd'\n",
    "    thresh = cm.max() / 2.\n",
    "\n",
    "    for i, j in itertools.product(range(cm.shape[0]), range(cm.shape[1])):\n",
    "        plt.text(j, i, format(cm[i, j], fmt), horizontalalignment=\"center\", \n",
    "                 color=\"teal\" if cm[i, j] < thresh else \"white\", fontsize=40)\n",
    "    \n",
    "    plt.tight_layout()\n",
    "    plt.ylabel('True label', fontsize=26, color='white')\n",
    "    plt.xlabel('Predicted label', fontsize=26, color='white')\n",
    "\n",
    "    return plt"
   ]
  },
  {
   "cell_type": "markdown",
   "metadata": {},
   "source": [
    "Plots are optimized for presentation which makes them hard to read here. Can be converted back to black text etc. "
   ]
  },
  {
   "cell_type": "code",
   "execution_count": 32,
   "metadata": {},
   "outputs": [
    {
     "data": {
      "image/png": "[encoded data removed]",
      "text/plain": [
       "<Figure size 720x720 with 2 Axes>"
      ]
     },
     "metadata": {
      "image/png": {
       "height": 626,
       "width": 712
      },
      "needs_background": "dark"
     },
     "output_type": "display_data"
    }
   ],
   "source": [
    "cm = confusion_matrix(y_test, y_pred)\n",
    "fig = plt.figure(figsize=(10, 10))\n",
    "plot = plot_confusion_matrix(cm, classes=['Biology','Physics'], normalize=False, title='Confusion matrix')\n",
    "plt.savefig('Visuals/confusion_matrix.png', dpi=360, transparent=True)\n",
    "plt.tight_layout();"
   ]
  },
  {
   "cell_type": "code",
   "execution_count": 33,
   "metadata": {},
   "outputs": [
    {
     "data": {
      "text/plain": [
       "array([[629, 133],\n",
       "       [214, 538]])"
      ]
     },
     "execution_count": 33,
     "metadata": {},
     "output_type": "execute_result"
    }
   ],
   "source": [
    "confusion_matrix(y_test, y_pred)"
   ]
  },
  {
   "cell_type": "code",
   "execution_count": null,
   "metadata": {},
   "outputs": [],
   "source": []
  }
 ],
 "metadata": {
  "kernelspec": {
   "display_name": "Python 3",
   "language": "python",
   "name": "python3"
  },
  "language_info": {
   "codemirror_mode": {
    "name": "ipython",
    "version": 3
   },
   "file_extension": ".py",
   "mimetype": "text/x-python",
   "name": "python",
   "nbconvert_exporter": "python",
   "pygments_lexer": "ipython3",
   "version": "3.8.5"
  }
 },
 "nbformat": 4,
 "nbformat_minor": 4
}
