{
 "cells": [
  {
   "cell_type": "markdown",
   "metadata": {},
   "source": [
    "# Practice  - Reddit API"
   ]
  },
  {
   "cell_type": "markdown",
   "metadata": {},
   "source": [
    "Build your parameter Grid"
   ]
  },
  {
   "cell_type": "code",
   "execution_count": 1,
   "metadata": {},
   "outputs": [],
   "source": [
    "import requests\n",
    "import pandas as pd\n",
    "import time"
   ]
  },
  {
   "cell_type": "code",
   "execution_count": 2,
   "metadata": {},
   "outputs": [],
   "source": [
    "# pushshift params\n",
    "params = {\n",
    "    \"subreddit\" : 'dataisbeautiful',\n",
    "    \"size\" : 25,\n",
    "}"
   ]
  },
  {
   "cell_type": "code",
   "execution_count": 3,
   "metadata": {},
   "outputs": [],
   "source": [
    "post_url = 'https://api.pushshift.io/reddit/submission/search'"
   ]
  },
  {
   "cell_type": "code",
   "execution_count": 4,
   "metadata": {},
   "outputs": [],
   "source": [
    "# Usual requests.get method\n",
    "res = requests.get(post_url, params)"
   ]
  },
  {
   "cell_type": "code",
   "execution_count": 5,
   "metadata": {},
   "outputs": [],
   "source": [
    "# Look at JSON"
   ]
  },
  {
   "cell_type": "code",
   "execution_count": 6,
   "metadata": {},
   "outputs": [
    {
     "data": {
      "text/plain": [
       "dict_keys(['data'])"
      ]
     },
     "execution_count": 6,
     "metadata": {},
     "output_type": "execute_result"
    }
   ],
   "source": [
    "res.json().keys()"
   ]
  },
  {
   "cell_type": "code",
   "execution_count": 7,
   "metadata": {},
   "outputs": [
    {
     "data": {
      "text/html": [
       "<div>\n",
       "<style scoped>\n",
       "    .dataframe tbody tr th:only-of-type {\n",
       "        vertical-align: middle;\n",
       "    }\n",
       "\n",
       "    .dataframe tbody tr th {\n",
       "        vertical-align: top;\n",
       "    }\n",
       "\n",
       "    .dataframe thead th {\n",
       "        text-align: right;\n",
       "    }\n",
       "</style>\n",
       "<table border=\"1\" class=\"dataframe\">\n",
       "  <thead>\n",
       "    <tr style=\"text-align: right;\">\n",
       "      <th></th>\n",
       "      <th>all_awardings</th>\n",
       "      <th>allow_live_comments</th>\n",
       "      <th>author</th>\n",
       "      <th>author_flair_css_class</th>\n",
       "      <th>author_flair_richtext</th>\n",
       "      <th>author_flair_template_id</th>\n",
       "      <th>author_flair_text</th>\n",
       "      <th>author_flair_text_color</th>\n",
       "      <th>author_flair_type</th>\n",
       "      <th>author_fullname</th>\n",
       "      <th>...</th>\n",
       "      <th>whitelist_status</th>\n",
       "      <th>wls</th>\n",
       "      <th>gallery_data</th>\n",
       "      <th>is_gallery</th>\n",
       "      <th>media_metadata</th>\n",
       "      <th>removed_by_category</th>\n",
       "      <th>media</th>\n",
       "      <th>media_embed</th>\n",
       "      <th>secure_media</th>\n",
       "      <th>secure_media_embed</th>\n",
       "    </tr>\n",
       "  </thead>\n",
       "  <tbody>\n",
       "    <tr>\n",
       "      <th>0</th>\n",
       "      <td>[]</td>\n",
       "      <td>False</td>\n",
       "      <td>MahdiGhajary</td>\n",
       "      <td>ocmaker</td>\n",
       "      <td>[]</td>\n",
       "      <td>1c7d62a6-099d-11e7-9b3c-0ee50bfd7a4c</td>\n",
       "      <td>OC: 1</td>\n",
       "      <td>dark</td>\n",
       "      <td>text</td>\n",
       "      <td>t2_87qt1s5t</td>\n",
       "      <td>...</td>\n",
       "      <td>all_ads</td>\n",
       "      <td>6</td>\n",
       "      <td>NaN</td>\n",
       "      <td>NaN</td>\n",
       "      <td>NaN</td>\n",
       "      <td>NaN</td>\n",
       "      <td>NaN</td>\n",
       "      <td>NaN</td>\n",
       "      <td>NaN</td>\n",
       "      <td>NaN</td>\n",
       "    </tr>\n",
       "    <tr>\n",
       "      <th>1</th>\n",
       "      <td>[]</td>\n",
       "      <td>False</td>\n",
       "      <td>fortune_auto</td>\n",
       "      <td>ocmaker</td>\n",
       "      <td>[]</td>\n",
       "      <td>1c7d62a6-099d-11e7-9b3c-0ee50bfd7a4c</td>\n",
       "      <td>OC: 4</td>\n",
       "      <td>dark</td>\n",
       "      <td>text</td>\n",
       "      <td>t2_an0o6</td>\n",
       "      <td>...</td>\n",
       "      <td>all_ads</td>\n",
       "      <td>6</td>\n",
       "      <td>{'items': [{'id': 19796021, 'media_id': '4tepm...</td>\n",
       "      <td>True</td>\n",
       "      <td>{'4tepmvm8ue861': {'e': 'Image', 'id': '4tepmv...</td>\n",
       "      <td>NaN</td>\n",
       "      <td>NaN</td>\n",
       "      <td>NaN</td>\n",
       "      <td>NaN</td>\n",
       "      <td>NaN</td>\n",
       "    </tr>\n",
       "    <tr>\n",
       "      <th>2</th>\n",
       "      <td>[]</td>\n",
       "      <td>False</td>\n",
       "      <td>_chrismp</td>\n",
       "      <td>ocmaker</td>\n",
       "      <td>[]</td>\n",
       "      <td>1c7d62a6-099d-11e7-9b3c-0ee50bfd7a4c</td>\n",
       "      <td>OC: 7</td>\n",
       "      <td>dark</td>\n",
       "      <td>text</td>\n",
       "      <td>t2_22yrfc9u</td>\n",
       "      <td>...</td>\n",
       "      <td>all_ads</td>\n",
       "      <td>6</td>\n",
       "      <td>{'items': [{'id': 19793418, 'media_id': 'uppj4...</td>\n",
       "      <td>True</td>\n",
       "      <td>{'safamsroqe861': {'e': 'Image', 'id': 'safams...</td>\n",
       "      <td>NaN</td>\n",
       "      <td>NaN</td>\n",
       "      <td>NaN</td>\n",
       "      <td>NaN</td>\n",
       "      <td>NaN</td>\n",
       "    </tr>\n",
       "    <tr>\n",
       "      <th>3</th>\n",
       "      <td>[]</td>\n",
       "      <td>False</td>\n",
       "      <td>arratonao</td>\n",
       "      <td>None</td>\n",
       "      <td>[]</td>\n",
       "      <td>NaN</td>\n",
       "      <td>None</td>\n",
       "      <td>NaN</td>\n",
       "      <td>text</td>\n",
       "      <td>t2_zn05b</td>\n",
       "      <td>...</td>\n",
       "      <td>all_ads</td>\n",
       "      <td>6</td>\n",
       "      <td>NaN</td>\n",
       "      <td>NaN</td>\n",
       "      <td>NaN</td>\n",
       "      <td>moderator</td>\n",
       "      <td>NaN</td>\n",
       "      <td>NaN</td>\n",
       "      <td>NaN</td>\n",
       "      <td>NaN</td>\n",
       "    </tr>\n",
       "    <tr>\n",
       "      <th>4</th>\n",
       "      <td>[]</td>\n",
       "      <td>False</td>\n",
       "      <td>barnoygil</td>\n",
       "      <td>None</td>\n",
       "      <td>[]</td>\n",
       "      <td>NaN</td>\n",
       "      <td>None</td>\n",
       "      <td>NaN</td>\n",
       "      <td>text</td>\n",
       "      <td>t2_47g1n9l2</td>\n",
       "      <td>...</td>\n",
       "      <td>all_ads</td>\n",
       "      <td>6</td>\n",
       "      <td>NaN</td>\n",
       "      <td>NaN</td>\n",
       "      <td>NaN</td>\n",
       "      <td>NaN</td>\n",
       "      <td>NaN</td>\n",
       "      <td>NaN</td>\n",
       "      <td>NaN</td>\n",
       "      <td>NaN</td>\n",
       "    </tr>\n",
       "  </tbody>\n",
       "</table>\n",
       "<p>5 rows × 74 columns</p>\n",
       "</div>"
      ],
      "text/plain": [
       "  all_awardings  allow_live_comments        author author_flair_css_class  \\\n",
       "0            []                False  MahdiGhajary                ocmaker   \n",
       "1            []                False  fortune_auto                ocmaker   \n",
       "2            []                False      _chrismp                ocmaker   \n",
       "3            []                False     arratonao                   None   \n",
       "4            []                False     barnoygil                   None   \n",
       "\n",
       "  author_flair_richtext              author_flair_template_id  \\\n",
       "0                    []  1c7d62a6-099d-11e7-9b3c-0ee50bfd7a4c   \n",
       "1                    []  1c7d62a6-099d-11e7-9b3c-0ee50bfd7a4c   \n",
       "2                    []  1c7d62a6-099d-11e7-9b3c-0ee50bfd7a4c   \n",
       "3                    []                                   NaN   \n",
       "4                    []                                   NaN   \n",
       "\n",
       "  author_flair_text author_flair_text_color author_flair_type author_fullname  \\\n",
       "0             OC: 1                    dark              text     t2_87qt1s5t   \n",
       "1             OC: 4                    dark              text        t2_an0o6   \n",
       "2             OC: 7                    dark              text     t2_22yrfc9u   \n",
       "3              None                     NaN              text        t2_zn05b   \n",
       "4              None                     NaN              text     t2_47g1n9l2   \n",
       "\n",
       "   ...  whitelist_status  wls  \\\n",
       "0  ...           all_ads    6   \n",
       "1  ...           all_ads    6   \n",
       "2  ...           all_ads    6   \n",
       "3  ...           all_ads    6   \n",
       "4  ...           all_ads    6   \n",
       "\n",
       "                                        gallery_data  is_gallery  \\\n",
       "0                                                NaN         NaN   \n",
       "1  {'items': [{'id': 19796021, 'media_id': '4tepm...        True   \n",
       "2  {'items': [{'id': 19793418, 'media_id': 'uppj4...        True   \n",
       "3                                                NaN         NaN   \n",
       "4                                                NaN         NaN   \n",
       "\n",
       "                                      media_metadata  removed_by_category  \\\n",
       "0                                                NaN                  NaN   \n",
       "1  {'4tepmvm8ue861': {'e': 'Image', 'id': '4tepmv...                  NaN   \n",
       "2  {'safamsroqe861': {'e': 'Image', 'id': 'safams...                  NaN   \n",
       "3                                                NaN            moderator   \n",
       "4                                                NaN                  NaN   \n",
       "\n",
       "  media media_embed secure_media secure_media_embed  \n",
       "0   NaN         NaN          NaN                NaN  \n",
       "1   NaN         NaN          NaN                NaN  \n",
       "2   NaN         NaN          NaN                NaN  \n",
       "3   NaN         NaN          NaN                NaN  \n",
       "4   NaN         NaN          NaN                NaN  \n",
       "\n",
       "[5 rows x 74 columns]"
      ]
     },
     "execution_count": 7,
     "metadata": {},
     "output_type": "execute_result"
    }
   ],
   "source": [
    "pd.DataFrame(res.json()['data']).head()"
   ]
  },
  {
   "cell_type": "code",
   "execution_count": 8,
   "metadata": {},
   "outputs": [],
   "source": [
    "# Build an if/else control flow "
   ]
  },
  {
   "cell_type": "code",
   "execution_count": 9,
   "metadata": {},
   "outputs": [],
   "source": [
    "# Control flow for the above\n",
    "res = requests.get(post_url, params)\n",
    "if res.status_code == 200:\n",
    "    posts_df = pd.DataFrame(res.json()['data'])\n",
    "else:\n",
    "    print(res.status_code)"
   ]
  },
  {
   "cell_type": "code",
   "execution_count": 10,
   "metadata": {},
   "outputs": [
    {
     "data": {
      "text/html": [
       "<div>\n",
       "<style scoped>\n",
       "    .dataframe tbody tr th:only-of-type {\n",
       "        vertical-align: middle;\n",
       "    }\n",
       "\n",
       "    .dataframe tbody tr th {\n",
       "        vertical-align: top;\n",
       "    }\n",
       "\n",
       "    .dataframe thead th {\n",
       "        text-align: right;\n",
       "    }\n",
       "</style>\n",
       "<table border=\"1\" class=\"dataframe\">\n",
       "  <thead>\n",
       "    <tr style=\"text-align: right;\">\n",
       "      <th></th>\n",
       "      <th>title</th>\n",
       "      <th>selftext</th>\n",
       "      <th>score</th>\n",
       "      <th>created_utc</th>\n",
       "    </tr>\n",
       "  </thead>\n",
       "  <tbody>\n",
       "    <tr>\n",
       "      <th>0</th>\n",
       "      <td>[OC] Risk of having at least one COVID-19 posi...</td>\n",
       "      <td></td>\n",
       "      <td>1</td>\n",
       "      <td>1609371680</td>\n",
       "    </tr>\n",
       "    <tr>\n",
       "      <th>1</th>\n",
       "      <td>[OC] The personal data gold rush from the Inte...</td>\n",
       "      <td></td>\n",
       "      <td>1</td>\n",
       "      <td>1609371527</td>\n",
       "    </tr>\n",
       "    <tr>\n",
       "      <th>2</th>\n",
       "      <td>[OC] The Last of us Part II is by far the most...</td>\n",
       "      <td></td>\n",
       "      <td>1</td>\n",
       "      <td>1609370425</td>\n",
       "    </tr>\n",
       "    <tr>\n",
       "      <th>3</th>\n",
       "      <td>20 years of Nintendo sales</td>\n",
       "      <td></td>\n",
       "      <td>1</td>\n",
       "      <td>1609369773</td>\n",
       "    </tr>\n",
       "    <tr>\n",
       "      <th>4</th>\n",
       "      <td>[OC] COVID-19 vaccination per 100 people</td>\n",
       "      <td></td>\n",
       "      <td>1</td>\n",
       "      <td>1609367799</td>\n",
       "    </tr>\n",
       "    <tr>\n",
       "      <th>5</th>\n",
       "      <td>COVID-19 vaccination per 100 people</td>\n",
       "      <td></td>\n",
       "      <td>1</td>\n",
       "      <td>1609367551</td>\n",
       "    </tr>\n",
       "    <tr>\n",
       "      <th>6</th>\n",
       "      <td>Watch \"How Weird Is My Audience? I Polled 15,4...</td>\n",
       "      <td></td>\n",
       "      <td>1</td>\n",
       "      <td>1609367385</td>\n",
       "    </tr>\n",
       "    <tr>\n",
       "      <th>7</th>\n",
       "      <td>[OC] Check out this Sankey Diagram I created: ...</td>\n",
       "      <td></td>\n",
       "      <td>1</td>\n",
       "      <td>1609366913</td>\n",
       "    </tr>\n",
       "    <tr>\n",
       "      <th>8</th>\n",
       "      <td>https://infographics.economist.com/2020/job-da...</td>\n",
       "      <td></td>\n",
       "      <td>1</td>\n",
       "      <td>1609365296</td>\n",
       "    </tr>\n",
       "    <tr>\n",
       "      <th>9</th>\n",
       "      <td>The Economist is hiring full-time and trainee ...</td>\n",
       "      <td></td>\n",
       "      <td>1</td>\n",
       "      <td>1609365216</td>\n",
       "    </tr>\n",
       "    <tr>\n",
       "      <th>10</th>\n",
       "      <td>[OC] Comparing the light intensity distributio...</td>\n",
       "      <td></td>\n",
       "      <td>1</td>\n",
       "      <td>1609363890</td>\n",
       "    </tr>\n",
       "    <tr>\n",
       "      <th>11</th>\n",
       "      <td>[OC] Visualizing where the weather is cold, ho...</td>\n",
       "      <td></td>\n",
       "      <td>1</td>\n",
       "      <td>1609362275</td>\n",
       "    </tr>\n",
       "    <tr>\n",
       "      <th>12</th>\n",
       "      <td>States' Population vs. Subreddit Subscribers [OC]</td>\n",
       "      <td></td>\n",
       "      <td>1</td>\n",
       "      <td>1609361374</td>\n",
       "    </tr>\n",
       "    <tr>\n",
       "      <th>13</th>\n",
       "      <td>Jesse Nelson leaves Little Max after 9 years o...</td>\n",
       "      <td></td>\n",
       "      <td>1</td>\n",
       "      <td>1609360822</td>\n",
       "    </tr>\n",
       "    <tr>\n",
       "      <th>14</th>\n",
       "      <td>Fashion design legend Pierre Cardin has passed...</td>\n",
       "      <td></td>\n",
       "      <td>1</td>\n",
       "      <td>1609360768</td>\n",
       "    </tr>\n",
       "    <tr>\n",
       "      <th>15</th>\n",
       "      <td>[OC] 2020 NFL Season: Visualizing Qb Performan...</td>\n",
       "      <td></td>\n",
       "      <td>1</td>\n",
       "      <td>1609359278</td>\n",
       "    </tr>\n",
       "    <tr>\n",
       "      <th>16</th>\n",
       "      <td>Comorbidities of psychological disorders [OC]</td>\n",
       "      <td></td>\n",
       "      <td>1</td>\n",
       "      <td>1609358262</td>\n",
       "    </tr>\n",
       "    <tr>\n",
       "      <th>17</th>\n",
       "      <td>With the RV market thriving in 2020. Here are ...</td>\n",
       "      <td></td>\n",
       "      <td>1</td>\n",
       "      <td>1609358097</td>\n",
       "    </tr>\n",
       "    <tr>\n",
       "      <th>18</th>\n",
       "      <td>With the RV market booming in 2020 check out t...</td>\n",
       "      <td></td>\n",
       "      <td>1</td>\n",
       "      <td>1609356810</td>\n",
       "    </tr>\n",
       "    <tr>\n",
       "      <th>19</th>\n",
       "      <td>What do you think about the Fifa football awards?</td>\n",
       "      <td></td>\n",
       "      <td>1</td>\n",
       "      <td>1609355654</td>\n",
       "    </tr>\n",
       "    <tr>\n",
       "      <th>20</th>\n",
       "      <td>[OC] Carbon Dioxide Emissions by Country 1960-...</td>\n",
       "      <td></td>\n",
       "      <td>1</td>\n",
       "      <td>1609355550</td>\n",
       "    </tr>\n",
       "    <tr>\n",
       "      <th>21</th>\n",
       "      <td>[OC] Approximating Pi using the Monte Carlo me...</td>\n",
       "      <td></td>\n",
       "      <td>1</td>\n",
       "      <td>1609354959</td>\n",
       "    </tr>\n",
       "    <tr>\n",
       "      <th>22</th>\n",
       "      <td>How do people spend their time?</td>\n",
       "      <td></td>\n",
       "      <td>1</td>\n",
       "      <td>1609354092</td>\n",
       "    </tr>\n",
       "    <tr>\n",
       "      <th>23</th>\n",
       "      <td>Interactive Top 10 RV Retail Unit Growth MSAs ...</td>\n",
       "      <td></td>\n",
       "      <td>1</td>\n",
       "      <td>1609354083</td>\n",
       "    </tr>\n",
       "    <tr>\n",
       "      <th>24</th>\n",
       "      <td>Interactive Top 10 RV Retail Unit Growth MSAs ...</td>\n",
       "      <td></td>\n",
       "      <td>1</td>\n",
       "      <td>1609353819</td>\n",
       "    </tr>\n",
       "  </tbody>\n",
       "</table>\n",
       "</div>"
      ],
      "text/plain": [
       "                                                title selftext  score  \\\n",
       "0   [OC] Risk of having at least one COVID-19 posi...               1   \n",
       "1   [OC] The personal data gold rush from the Inte...               1   \n",
       "2   [OC] The Last of us Part II is by far the most...               1   \n",
       "3                          20 years of Nintendo sales               1   \n",
       "4            [OC] COVID-19 vaccination per 100 people               1   \n",
       "5                 COVID-19 vaccination per 100 people               1   \n",
       "6   Watch \"How Weird Is My Audience? I Polled 15,4...               1   \n",
       "7   [OC] Check out this Sankey Diagram I created: ...               1   \n",
       "8   https://infographics.economist.com/2020/job-da...               1   \n",
       "9   The Economist is hiring full-time and trainee ...               1   \n",
       "10  [OC] Comparing the light intensity distributio...               1   \n",
       "11  [OC] Visualizing where the weather is cold, ho...               1   \n",
       "12  States' Population vs. Subreddit Subscribers [OC]               1   \n",
       "13  Jesse Nelson leaves Little Max after 9 years o...               1   \n",
       "14  Fashion design legend Pierre Cardin has passed...               1   \n",
       "15  [OC] 2020 NFL Season: Visualizing Qb Performan...               1   \n",
       "16      Comorbidities of psychological disorders [OC]               1   \n",
       "17  With the RV market thriving in 2020. Here are ...               1   \n",
       "18  With the RV market booming in 2020 check out t...               1   \n",
       "19  What do you think about the Fifa football awards?               1   \n",
       "20  [OC] Carbon Dioxide Emissions by Country 1960-...               1   \n",
       "21  [OC] Approximating Pi using the Monte Carlo me...               1   \n",
       "22                    How do people spend their time?               1   \n",
       "23  Interactive Top 10 RV Retail Unit Growth MSAs ...               1   \n",
       "24  Interactive Top 10 RV Retail Unit Growth MSAs ...               1   \n",
       "\n",
       "    created_utc  \n",
       "0    1609371680  \n",
       "1    1609371527  \n",
       "2    1609370425  \n",
       "3    1609369773  \n",
       "4    1609367799  \n",
       "5    1609367551  \n",
       "6    1609367385  \n",
       "7    1609366913  \n",
       "8    1609365296  \n",
       "9    1609365216  \n",
       "10   1609363890  \n",
       "11   1609362275  \n",
       "12   1609361374  \n",
       "13   1609360822  \n",
       "14   1609360768  \n",
       "15   1609359278  \n",
       "16   1609358262  \n",
       "17   1609358097  \n",
       "18   1609356810  \n",
       "19   1609355654  \n",
       "20   1609355550  \n",
       "21   1609354959  \n",
       "22   1609354092  \n",
       "23   1609354083  \n",
       "24   1609353819  "
      ]
     },
     "execution_count": 10,
     "metadata": {},
     "output_type": "execute_result"
    }
   ],
   "source": [
    "posts_df[['title', 'selftext', 'score', 'created_utc']]"
   ]
  },
  {
   "cell_type": "code",
   "execution_count": 11,
   "metadata": {},
   "outputs": [],
   "source": [
    "# the 4 columns that most folks will likely be interested in\n",
    "posts_df = posts_df[['title', 'selftext', 'score', 'created_utc']]"
   ]
  },
  {
   "cell_type": "code",
   "execution_count": 12,
   "metadata": {},
   "outputs": [],
   "source": [
    "# same as above, but for comments\n",
    "comment_url = 'https://api.pushshift.io/reddit/comment/search'\n",
    "res = requests.get(comment_url, params)\n",
    "if res.status_code == 200:\n",
    "    comments_df = pd.DataFrame(res.json()['data'])\n",
    "else:\n",
    "    print(res.status_code)"
   ]
  },
  {
   "cell_type": "code",
   "execution_count": 13,
   "metadata": {},
   "outputs": [],
   "source": [
    "comments_df = [['body', 'created_utc']]"
   ]
  },
  {
   "cell_type": "code",
   "execution_count": 14,
   "metadata": {},
   "outputs": [],
   "source": [
    "# comments_df.head()"
   ]
  },
  {
   "cell_type": "code",
   "execution_count": 15,
   "metadata": {},
   "outputs": [
    {
     "data": {
      "text/plain": [
       "1609371680"
      ]
     },
     "execution_count": 15,
     "metadata": {},
     "output_type": "execute_result"
    }
   ],
   "source": [
    "posts_df['created_utc'].max()"
   ]
  },
  {
   "cell_type": "code",
   "execution_count": 16,
   "metadata": {},
   "outputs": [
    {
     "data": {
      "text/plain": [
       "1609353819"
      ]
     },
     "execution_count": 16,
     "metadata": {},
     "output_type": "execute_result"
    }
   ],
   "source": [
    "posts_df['created_utc'].min()"
   ]
  },
  {
   "cell_type": "code",
   "execution_count": 17,
   "metadata": {},
   "outputs": [
    {
     "name": "stdout",
     "output_type": "stream",
     "text": [
      "res 1 code:  200\n",
      "res 2 code:  200\n",
      "res 3 code:  200\n",
      "res 4 code:  200\n",
      "res 5 code:  200\n",
      "res 6 code:  200\n",
      "res 7 code:  200\n",
      "res 8 code:  200\n",
      "res 9 code:  200\n",
      "res 10 code:  200\n",
      "res 11 code:  200\n",
      "res 12 code:  200\n",
      "res 13 code:  200\n",
      "res 14 code:  200\n",
      "res 15 code:  200\n",
      "res 16 code:  200\n",
      "res 17 code:  200\n",
      "res 18 code:  200\n",
      "res 19 code:  200\n",
      "res 20 code:  200\n"
     ]
    }
   ],
   "source": [
    "# just one example of a loop for pulling in subreddits\n",
    "url = 'https://api.pushshift.io/reddit/submission/search'\n",
    "dfs = []\n",
    "loops = 10\n",
    "subreddit = 'datasets'\n",
    "params = {\n",
    "    'subreddit': subreddit,\n",
    "    'size': 100,\n",
    "}\n",
    "start_time = time.time()\n",
    "for i in range(loops):\n",
    "    current_time = time.time()\n",
    "    #requesting data\n",
    "    try:\n",
    "        res = requests.get(url, params)\n",
    "        print(f'res {i+1} code: ', res.status_code)\n",
    "        data = res.json()\n",
    "        posts = data['data']\n",
    "        dfs.append(pd.DataFrame(posts))\n",
    "        #get oldest post time and use as before parameter in next request\n",
    "        oldest = posts['created_utc'].min()\n",
    "        params['before'] = oldest\n",
    "        #sleep for 1 second\n",
    "        time.sleep(1)\n",
    "    except:\n",
    "        pass\n",
    "reddit_posts = pd.concat(dfs)\n",
    "#filename = subreddit + '.csv'\n",
    "#reddit_posts.to_csv('./datasets/' + filename, index=False)\n"
   ]
  },
  {
   "cell_type": "code",
   "execution_count": 18,
   "metadata": {},
   "outputs": [],
   "source": [
    "base_url = 'https://api.pushshift.io/reddit/submission/search'\n",
    "\n",
    "# pushshift params\n",
    "params = {\n",
    "    \"subreddit\" : 'dataisbeautiful',\n",
    "    \"size\" : 25,\n",
    "    \"before\": \"2020-03-14\"\n",
    "}"
   ]
  },
  {
   "cell_type": "code",
   "execution_count": 19,
   "metadata": {},
   "outputs": [],
   "source": [
    "res2 = requests.get(base_url, params)"
   ]
  },
  {
   "cell_type": "code",
   "execution_count": 21,
   "metadata": {},
   "outputs": [],
   "source": [
    "datasets_df = pd.DataFrame(res2.json()['data'])"
   ]
  },
  {
   "cell_type": "code",
   "execution_count": 22,
   "metadata": {},
   "outputs": [
    {
     "data": {
      "text/plain": [
       "0    2020-03-13 23:58:00\n",
       "1    2020-03-13 23:57:53\n",
       "2    2020-03-13 22:49:35\n",
       "3    2020-03-13 22:48:20\n",
       "4    2020-03-13 22:46:03\n",
       "5    2020-03-13 22:44:46\n",
       "6    2020-03-13 22:26:39\n",
       "7    2020-03-13 22:18:08\n",
       "8    2020-03-13 22:15:21\n",
       "9    2020-03-13 21:56:27\n",
       "10   2020-03-13 21:56:15\n",
       "11   2020-03-13 21:55:05\n",
       "12   2020-03-13 21:43:58\n",
       "13   2020-03-13 21:40:03\n",
       "14   2020-03-13 21:34:59\n",
       "15   2020-03-13 21:30:08\n",
       "16   2020-03-13 21:10:19\n",
       "17   2020-03-13 20:54:49\n",
       "18   2020-03-13 20:49:14\n",
       "19   2020-03-13 20:47:39\n",
       "20   2020-03-13 20:34:19\n",
       "21   2020-03-13 20:33:22\n",
       "22   2020-03-13 20:25:38\n",
       "23   2020-03-13 20:11:44\n",
       "24   2020-03-13 19:54:39\n",
       "Name: created_utc, dtype: datetime64[ns]"
      ]
     },
     "execution_count": 22,
     "metadata": {},
     "output_type": "execute_result"
    }
   ],
   "source": [
    "# converting UTC to datetime\n",
    "pd.to_datetime(datasets_df['created_utc'], unit='s')"
   ]
  },
  {
   "cell_type": "code",
   "execution_count": 23,
   "metadata": {},
   "outputs": [],
   "source": [
    "# saving datetime as a new column\n",
    "datasets_df['datetime'] = pd.to_datetime(datasets_df['created_utc'], unit='s')"
   ]
  },
  {
   "cell_type": "code",
   "execution_count": 24,
   "metadata": {},
   "outputs": [
    {
     "data": {
      "text/html": [
       "<div>\n",
       "<style scoped>\n",
       "    .dataframe tbody tr th:only-of-type {\n",
       "        vertical-align: middle;\n",
       "    }\n",
       "\n",
       "    .dataframe tbody tr th {\n",
       "        vertical-align: top;\n",
       "    }\n",
       "\n",
       "    .dataframe thead th {\n",
       "        text-align: right;\n",
       "    }\n",
       "</style>\n",
       "<table border=\"1\" class=\"dataframe\">\n",
       "  <thead>\n",
       "    <tr style=\"text-align: right;\">\n",
       "      <th></th>\n",
       "      <th>title</th>\n",
       "      <th>selftext</th>\n",
       "      <th>datetime</th>\n",
       "    </tr>\n",
       "  </thead>\n",
       "  <tbody>\n",
       "    <tr>\n",
       "      <th>0</th>\n",
       "      <td>So pretty!</td>\n",
       "      <td></td>\n",
       "      <td>2020-03-13 23:58:00</td>\n",
       "    </tr>\n",
       "    <tr>\n",
       "      <th>1</th>\n",
       "      <td>White Minorization within 10-20 years, visuali...</td>\n",
       "      <td></td>\n",
       "      <td>2020-03-13 23:57:53</td>\n",
       "    </tr>\n",
       "    <tr>\n",
       "      <th>2</th>\n",
       "      <td>Geaux Tigers</td>\n",
       "      <td></td>\n",
       "      <td>2020-03-13 22:49:35</td>\n",
       "    </tr>\n",
       "    <tr>\n",
       "      <th>3</th>\n",
       "      <td>When speaking about Data Visualization, what d...</td>\n",
       "      <td></td>\n",
       "      <td>2020-03-13 22:48:20</td>\n",
       "    </tr>\n",
       "    <tr>\n",
       "      <th>4</th>\n",
       "      <td>[OC]Interesting visualisation about the spread...</td>\n",
       "      <td></td>\n",
       "      <td>2020-03-13 22:46:03</td>\n",
       "    </tr>\n",
       "  </tbody>\n",
       "</table>\n",
       "</div>"
      ],
      "text/plain": [
       "                                               title selftext  \\\n",
       "0                                         So pretty!            \n",
       "1  White Minorization within 10-20 years, visuali...            \n",
       "2                                       Geaux Tigers            \n",
       "3  When speaking about Data Visualization, what d...            \n",
       "4  [OC]Interesting visualisation about the spread...            \n",
       "\n",
       "             datetime  \n",
       "0 2020-03-13 23:58:00  \n",
       "1 2020-03-13 23:57:53  \n",
       "2 2020-03-13 22:49:35  \n",
       "3 2020-03-13 22:48:20  \n",
       "4 2020-03-13 22:46:03  "
      ]
     },
     "execution_count": 24,
     "metadata": {},
     "output_type": "execute_result"
    }
   ],
   "source": [
    "datasets_df[['title', 'selftext', 'datetime']].head()"
   ]
  },
  {
   "cell_type": "code",
   "execution_count": 25,
   "metadata": {},
   "outputs": [],
   "source": [
    "# some students end up just combining their title/selftext columns\n",
    "datasets_df['merged'] = datasets_df['title'] + \" \" + datasets_df['selftext']"
   ]
  },
  {
   "cell_type": "code",
   "execution_count": 26,
   "metadata": {},
   "outputs": [
    {
     "data": {
      "text/plain": [
       "'So pretty! '"
      ]
     },
     "execution_count": 26,
     "metadata": {},
     "output_type": "execute_result"
    }
   ],
   "source": [
    "datasets_df['merged'][0]"
   ]
  },
  {
   "cell_type": "code",
   "execution_count": 27,
   "metadata": {},
   "outputs": [
    {
     "data": {
      "text/plain": [
       "0    0\n",
       "1    0\n",
       "2    0\n",
       "3    0\n",
       "4    0\n",
       "Name: selftext, dtype: int64"
      ]
     },
     "execution_count": 27,
     "metadata": {},
     "output_type": "execute_result"
    }
   ],
   "source": [
    "# 5 longest posts\n",
    "datasets_df['selftext'].map(lambda x: len(x)).nlargest()"
   ]
  },
  {
   "cell_type": "code",
   "execution_count": 28,
   "metadata": {},
   "outputs": [
    {
     "data": {
      "image/png": "[encoded data removed]",
      "text/plain": [
       "<Figure size 432x288 with 1 Axes>"
      ]
     },
     "metadata": {
      "needs_background": "light"
     },
     "output_type": "display_data"
    }
   ],
   "source": [
    "# distribution of post length\n",
    "datasets_df['selftext'].map(lambda x: len(x)).plot(kind='hist');"
   ]
  },
  {
   "cell_type": "code",
   "execution_count": null,
   "metadata": {},
   "outputs": [],
   "source": []
  }
 ],
 "metadata": {
  "kernelspec": {
   "display_name": "Python 3",
   "language": "python",
   "name": "python3"
  },
  "language_info": {
   "codemirror_mode": {
    "name": "ipython",
    "version": 3
   },
   "file_extension": ".py",
   "mimetype": "text/x-python",
   "name": "python",
   "nbconvert_exporter": "python",
   "pygments_lexer": "ipython3",
   "version": "3.8.5"
  }
 },
 "nbformat": 4,
 "nbformat_minor": 4
}
